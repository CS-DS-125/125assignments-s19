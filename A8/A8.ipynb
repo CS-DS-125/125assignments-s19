{
 "cells": [
  {
   "cell_type": "markdown",
   "metadata": {},
   "source": [
    "# Assignment 8: Simple Linear Regression in a Class"
   ]
  },
  {
   "cell_type": "markdown",
   "metadata": {},
   "source": [
    "In this assignment, you will create a class to facilitate Simple Linear Regression (SLR) analyses.  At the end, you will have created a tool you can easily apply to any dataset (with two columns of continuous data) to make predictions and visualize the \"best fit\" line produced by the SLR analysis.\n",
    "\n",
    " * Relevant textbook chapter: [Chapter 8: Classes (Defining New Kinds of Objects)](https://snakebear.science/08-Classes/toctree.html)\n",
    " * Also see the linear regression code written during class (link on Moodle)"
   ]
  },
  {
   "cell_type": "markdown",
   "metadata": {},
   "source": [
    "### Saving Drafts and Submitting"
   ]
  },
  {
   "cell_type": "markdown",
   "metadata": {},
   "source": [
    "Before you do anything else, execute the cell below. This will prompt you to log in and then save your work via an online submission system.\n",
    "\n",
    "You can re-run the cell and to submit your work as many times as you want before the deadline. We will only grade your final submission.\n",
    "\n",
    "Any time you want to submit your work, select \"Save Notebook\" in the File menu (or press the Save icon, or press <kbd>Ctrl+S</kbd>) and then execute the cell again.  The result will contain a link that you can use to check that your assignment has been submitted successfully.\n",
    "\n",
    "*[Executing this may print some errors saying \"Javascript Error: IPython is not defined\"; those may safely be ignored.]*"
   ]
  },
  {
   "cell_type": "code",
   "execution_count": null,
   "metadata": {
    "editable": false
   },
   "outputs": [],
   "source": [
    "# This cell is just for submitting your work.\n",
    "# Each time you execute it, a copy of this notebook will be uploaded to the submission system.\n",
    "from client.api.notebook import Notebook\n",
    "ok = Notebook('A8.ok')\n",
    "import os\n",
    "if not os.path.exists(os.path.join(os.environ.get(\"HOME\"), \".config/ok/auth_refresh\")):\n",
    "    ok.auth(force=True)\n",
    "else:\n",
    "    ok.auth(inline=True)\n",
    "_ = ok.submit()"
   ]
  },
  {
   "cell_type": "markdown",
   "metadata": {},
   "source": [
    "### Authorship and Resources Used\n",
    "* Include your name here\n",
    "* If you received any assistance from anyone else, state who you consulted and specifically how they helped\n",
    "* If you used any other resources, state what they were and specifically how they helped, include links to the resources. [Markdown links use this formatting.](https://github.com/adam-p/markdown-here/wiki/Markdown-Cheatsheet#links)"
   ]
  },
  {
   "cell_type": "markdown",
   "metadata": {},
   "source": [
    "***\n",
    "\n",
    "## Imports"
   ]
  },
  {
   "cell_type": "code",
   "execution_count": null,
   "metadata": {},
   "outputs": [],
   "source": [
    "import pandas as pd\n",
    "import matplotlib.pyplot as plt"
   ]
  },
  {
   "cell_type": "markdown",
   "metadata": {},
   "source": [
    "***\n",
    "\n",
    "## Defining the Class\n",
    "\n",
    "Define the class here, matching the following specification.  The specificaction is very detailed; make sure you follow it exactly!\n",
    "\n",
    "As you develop the class, test each part of it *as you write it*.  Do not wait until the entire class is written to test it.  That is likely to result in far more trouble debugging and making things work than you would have in total if you test small pieces as you go."
   ]
  },
  {
   "cell_type": "markdown",
   "metadata": {},
   "source": [
    "### Class Specification\n",
    "\n",
    "- Class name: `SimpleLinearRegression`\n",
    "- ``__init__()`` method\n",
    "  - Define ``__init__()`` to take three arguments:\n",
    "    1. A Pandas DataFrame\n",
    "    2. The column label of the predictor values (the independent variable)\n",
    "    3. The column label of the outcome values (the dependent variable)\n",
    "  - Store the three arguments in object attributes with descriptive names\n",
    "- ``calc_fit()`` method\n",
    "  - No arguments\n",
    "  - No return value\n",
    "  - Using the simple linear regression formulas presented in class, calculate the best-fit ``slope`` and ``intercept`` values for the columns that were specified when instantiating this object.\n",
    "  - Store ``slope`` and ``intercept`` as attributes of the object.\n",
    "- ``predict()`` method\n",
    "  - One argument: a numeric value\n",
    "  - Returns: the predicted value, calculated using the ``slope`` and ``intercept`` attributes\n",
    "- ``plot()`` method\n",
    "  - No arguments\n",
    "  - No return value\n",
    "  - Plots a scatterplot comparing the two columns that were specified when instantiating this object\n",
    "  - Plots (over the scatterplot) a red line displaying the best-fit prediction (based on ``slope`` and ``intercept``)\n",
    "  - Labels the x-axis and y-axis with the relevant column labels"
   ]
  },
  {
   "cell_type": "code",
   "execution_count": null,
   "metadata": {},
   "outputs": [],
   "source": [
    "# Define the SimpleLinearRegression class here"
   ]
  },
  {
   "cell_type": "markdown",
   "metadata": {},
   "source": [
    "***\n",
    "\n",
    "## Testing on simple data"
   ]
  },
  {
   "cell_type": "markdown",
   "metadata": {},
   "source": [
    "It's always good to test something on simple cases first.  It's easier to spot what might be going wrong (if anything) when the inputs are simple.\n",
    "\n",
    "The following cell creates a dataframe with two columns and three rows that will be used for the first test (do not change it)."
   ]
  },
  {
   "cell_type": "code",
   "execution_count": null,
   "metadata": {},
   "outputs": [],
   "source": [
    "df = pd.DataFrame([[1,4],[2,5],[3,5]], columns=[\"A\",\"B\"])\n",
    "df"
   ]
  },
  {
   "cell_type": "markdown",
   "metadata": {},
   "source": [
    "Using the class defined above, create a `SimpleLinearRegression` object to predict \"B\" values from \"A\" values using the data in this dataframe.\n",
    "\n",
    "Using that object:\n",
    "1. Calculate the best fit slope and intercept for the given data.\n",
    "2. Print out the slope and the intercept.\n",
    "3. Print a prediction for an \"A\" value of 100.\n",
    "4. Plot the best fit line over a scatterplot of the data."
   ]
  },
  {
   "cell_type": "code",
   "execution_count": null,
   "metadata": {},
   "outputs": [],
   "source": [
    "# Test SimpleLinearRegression on the dataframe defined above."
   ]
  },
  {
   "cell_type": "markdown",
   "metadata": {},
   "source": [
    "The output should look something like this, with the calculated slope and intercept values printed, the prediction for A=100 printed, and the plot shown:\n",
    "\n",
    "<img src=\"test1_result.png\" alt=\"Results of first test\" width=\"400\"/>"
   ]
  },
  {
   "cell_type": "markdown",
   "metadata": {},
   "source": [
    "***\n",
    "\n",
    "## Testing on real data"
   ]
  },
  {
   "cell_type": "markdown",
   "metadata": {},
   "source": [
    "If that's working, let's try it out on some real data!\n",
    "\n",
    "Load the `fandango_score_comparison.csv` file into a dataframe, then calculate and plot regression lines for the following pairs of columns:\n",
    "- \"RottenTomatoes\" and \"RottenTomatoes_User\"\n",
    "- \"Metacritic\" and \"Metacritic_User\"\n",
    "- \"Fandango_Stars\" and \"Fandango_Ratingvalue\"\n",
    "- \"IMDB\" and \"Fandango_Ratingvalue\"\n",
    "\n",
    "Performing and plotting the regression for each pair should only take three new lines of code.  That's the beauty of defining classes: they can be defined once and reused many times (just like functions, but more powerful)."
   ]
  },
  {
   "cell_type": "code",
   "execution_count": null,
   "metadata": {},
   "outputs": [],
   "source": [
    "# Test SimpleLinearRegression on the movie ratings data."
   ]
  },
  {
   "cell_type": "markdown",
   "metadata": {},
   "source": [
    "***\n",
    "\n",
    "## Testing on more real data\n",
    "\n",
    "Now open another dataset into a new dataframe, then calculate and plot regression lines for at least three different pairs of columns in that data.  Make sure the plots are included in the notebook when you submit it.\n",
    "\n",
    "You've made a tool you can apply to any two numeric columns you can find!"
   ]
  },
  {
   "cell_type": "code",
   "execution_count": null,
   "metadata": {},
   "outputs": [],
   "source": []
  }
 ],
 "metadata": {
  "kernelspec": {
   "display_name": "Python 3",
   "language": "python",
   "name": "python3"
  },
  "language_info": {
   "codemirror_mode": {
    "name": "ipython",
    "version": 3
   },
   "file_extension": ".py",
   "mimetype": "text/x-python",
   "name": "python",
   "nbconvert_exporter": "python",
   "pygments_lexer": "ipython3",
   "version": "3.6.5"
  }
 },
 "nbformat": 4,
 "nbformat_minor": 2
}
