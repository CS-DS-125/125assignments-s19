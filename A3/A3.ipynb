{
 "cells": [
  {
   "cell_type": "markdown",
   "metadata": {},
   "source": [
    "# Assignment 3: Strings and Lists"
   ]
  },
  {
   "cell_type": "markdown",
   "metadata": {},
   "source": [
    "You are a teaching assistant for Professor Shelley, a somewhat eccentric literature professor. You need to write a program to help Professor Shelley calculate grades for her \"Ethics in Literature\" class.  Her grades are based on ethics papers, which are graded with letter grades (B+, A-, C, etc.), and exams, which are graded on a 100-point scale.  She drops the lowest exam grade and the lowest two paper grades.  The problems below all involve writing code to help her calculate final grades for her class."
   ]
  },
  {
   "cell_type": "markdown",
   "metadata": {},
   "source": [
    "[The percentages listed after each problem indicate how much each one will contribute to the \"correctness\" portion of the grade for this assignment.  The other grading criteria from the rubric will be applied across all your code.]"
   ]
  },
  {
   "cell_type": "markdown",
   "metadata": {},
   "source": [
    "### Saving Drafts and Submitting"
   ]
  },
  {
   "cell_type": "markdown",
   "metadata": {},
   "source": [
    "Before you do anything else, execute the cell below. This will prompt you to log in and then save your work via an online submission system.\n",
    "\n",
    "You can re-run the cell and to submit your work as many times as you want before the deadline. We will only grade your final submission.\n",
    "\n",
    "Any time you want to submit your work, select \"Save Notebook\" in the File menu (or press the Save icon, or press <kbd>Ctrl+S</kbd>) and then execute the cell again.  The result will contain a link that you can use to check that your assignment has been submitted successfully.\n",
    "\n",
    "*[Executing this may print some errors saying \"Javascript Error: IPython is not defined\"; those may safely be ignored.]*"
   ]
  },
  {
   "cell_type": "code",
   "execution_count": null,
   "metadata": {
    "editable": false
   },
   "outputs": [],
   "source": [
    "# This cell is just for submitting your work.\n",
    "# Each time you execute it, a copy of this notebook will be uploaded to the submission system.\n",
    "from client.api.notebook import Notebook\n",
    "ok = Notebook('A3.ok')\n",
    "import os\n",
    "if not os.path.exists(os.path.join(os.environ.get(\"HOME\"), \".config/ok/auth_refresh\")):\n",
    "    ok.auth(force=True)\n",
    "else:\n",
    "    ok.auth(inline=True)\n",
    "_ = ok.submit()"
   ]
  },
  {
   "cell_type": "markdown",
   "metadata": {},
   "source": [
    "### Authorship and Resources Used\n",
    "* Include your name here\n",
    "* If you received any assistance from anyone else, state who you consulted and specifically how they helped\n",
    "* If you used any other resources, state what they were and specifically how they helped, include links to the resources. [Markdown links use this formatting.](https://github.com/adam-p/markdown-here/wiki/Markdown-Cheatsheet#links)"
   ]
  },
  {
   "cell_type": "markdown",
   "metadata": {},
   "source": [
    "***"
   ]
  },
  {
   "cell_type": "markdown",
   "metadata": {},
   "source": [
    "## Problem 1 (30%)"
   ]
  },
  {
   "cell_type": "markdown",
   "metadata": {},
   "source": [
    "Professor Shelley wants to convert her ethics paper letter grades (A-, C+, B+) into numeric grades (92, 78, 88).\n",
    "To help her out you will define a function called `letter_to_score()` that:\n",
    "1. takes a **single argument**: a string containing a letter grade to convert.\n",
    "2. calculates a base numeric grade converting the **first** character of the grade as follows: 'A'=95, 'B'=85, 'C'=75, 'D'=65, 'F'=55.\n",
    "3. **if** the grade has a second character, then the function adds 3 points for a '+' or subtracts 3 points for a '-' modifier.\n",
    "4. the function then **returns** the numeric score as an integer."
   ]
  },
  {
   "cell_type": "markdown",
   "metadata": {},
   "source": [
    "Use one conditional for the first step (converting a letter to an integer) and another conditional for the second step (adding or subtracting 3 based on the presence of + or - signs)."
   ]
  },
  {
   "cell_type": "code",
   "execution_count": null,
   "metadata": {},
   "outputs": [],
   "source": [
    "# Define the letter_to_score() function here."
   ]
  },
  {
   "cell_type": "markdown",
   "metadata": {},
   "source": [
    "### Tests\n",
    "Executing the cell below will run some tests on the `letter_to_score()` function you define above.  It converts a list of letter grade strings to integers using the function.  If the function is working correctly, it should print:\n",
    "```\n",
    "A+: 98\n",
    "B-: 82\n",
    "C : 75\n",
    "D+: 68\n",
    "```"
   ]
  },
  {
   "cell_type": "code",
   "execution_count": null,
   "metadata": {
    "editable": false
   },
   "outputs": [],
   "source": [
    "# Tests for letter_to_score() [do not modify]\n",
    "#\n",
    "# Uses a for loop to apply letter_to_score() to four grade strings from a list,\n",
    "# printing the grade and the resulting numeric score for each.\n",
    "for grade in [\"A+\", \"B-\", \"C\", \"D+\"]:\n",
    "    score = letter_to_score(grade)\n",
    "    print(\"{:2}: {}\".format(grade, score))"
   ]
  },
  {
   "cell_type": "markdown",
   "metadata": {},
   "source": [
    "***"
   ]
  },
  {
   "cell_type": "markdown",
   "metadata": {},
   "source": [
    "## Problem 2 (30%)"
   ]
  },
  {
   "cell_type": "markdown",
   "metadata": {},
   "source": [
    "Professor Shelley drops the two lowest paper grades at the end of the semester. Define a function called `drop_lowest()` that:\n",
    "1. takes **one argument**: a list containing at least two paper grades (all integers).\n",
    "2. **sorts** the list so the lowest two grades become the first two elements.\n",
    "3. **returns** a new list containing all grades **but** those lowest two grades (this can be done using ``del`` or list slicing)."
   ]
  },
  {
   "cell_type": "code",
   "execution_count": null,
   "metadata": {},
   "outputs": [],
   "source": [
    "# Define the drop_lowest() function here."
   ]
  },
  {
   "cell_type": "markdown",
   "metadata": {},
   "source": [
    "### Tests\n",
    "Executing the cell below will run some tests on the `drop_lowest()` function you define above.  It generates a series of randomized lists of scores and prints the list before and after using `drop_lowest()` to drop some of those scores.  You can verify that your function is working correctly by making sure the right scores are dropped in each case."
   ]
  },
  {
   "cell_type": "code",
   "execution_count": null,
   "metadata": {
    "editable": false
   },
   "outputs": [],
   "source": [
    "# Tests for drop_lowest() [do not modify]\n",
    "\n",
    "# First, a test with a set list of grades\n",
    "example_list = [68, 82, 75, 98, 84, 99]\n",
    "after_dropped = drop_lowest(example_list[:])  # using [:] to make a copy of the list and avoid aliasing\n",
    "print(\"{} with 2 lowest dropped: {}\".format(example_list, after_dropped))\n",
    "\n",
    "# Second, a test with four randomly-generated lists\n",
    "import random\n",
    "for i in range(4):\n",
    "    scores = []\n",
    "    for j in range(5):\n",
    "        scores.append(random.randint(0,100))\n",
    "    after_dropped = drop_lowest(scores[:])  # using [:] to make a copy of the list and avoid aliasing\n",
    "    print(\"{} with 2 lowest dropped: {}\".format(scores, after_dropped))"
   ]
  },
  {
   "cell_type": "markdown",
   "metadata": {},
   "source": [
    "***"
   ]
  },
  {
   "cell_type": "markdown",
   "metadata": {},
   "source": [
    "## Problem 3 (40%)"
   ]
  },
  {
   "cell_type": "markdown",
   "metadata": {},
   "source": [
    "The end of the semester has arrived! It's time to calculate exam averages for the students.\n",
    "\n",
    "Professor Shelley's grades for all of her students are stored in the file `grades.txt` in the same directory as this notebook.  Open the file to look inside (but don't change anything in it).  You will see that every line contains a student's name, five letter grades for papers, and four exam scores (integers between 0 and 100).  The values in each line are separated with comma `,` characters.\n",
    "\n",
    "Prof. Shelley wants to know what every student's exam average was.  Your task here is to write a program that calculates and prints the average of each student's exam scores.  Prof. Shelley wants the output formatted in an easy-to-read table like this:\n",
    "```\n",
    "Name                   Exam Average\n",
    "Victor Frankenstein    59.75\n",
    "Robert Walton          74.50\n",
    "Justine Moritz         67.75\n",
    "Elizabeth Lavenza      68.75\n",
    "Henry Clerval          80.75\n",
    "Caroline Beaufort      90.75\n",
    "The Monster            100.00\n",
    "```"
   ]
  },
  {
   "cell_type": "markdown",
   "metadata": {},
   "source": [
    "The cell below contains two functions you should use in this program.  Execute the cell to define:\n",
    "\n",
    "1. `get_grades()` opens and reads the data from the `grades.txt` file, returning a list of strings, one for each line in the file.  Use this to get the data your program needs to process.\n",
    "2. `strings_to_ints()` converts a list of strings to a list of integers.  When you read data from a file, numbers will all be read as strings, so this function will be useful when you need to have the exam scores as integers for computing an average."
   ]
  },
  {
   "cell_type": "code",
   "execution_count": null,
   "metadata": {
    "editable": false
   },
   "outputs": [],
   "source": [
    "### Execute this cell to define these two functions. [do not modify]\n",
    "\n",
    "# function to read data from grades-exams.txt\n",
    "def get_grades():\n",
    "    '''\n",
    "    Read data from \"grades.txt\" and return a list of strings,\n",
    "    one for each line in the file.\n",
    "    '''\n",
    "    with open(\"grades.txt\") as f:\n",
    "        return [s.strip() for s in f.readlines()]\n",
    "    \n",
    "# function to convert a list of strings to a list of ints\n",
    "def strings_to_ints(stringlist):\n",
    "    '''\n",
    "    Argument: a list of strings representing whole numbers\n",
    "    Return: a list of integers converted from the strings\n",
    "    '''\n",
    "    result = []\n",
    "    for s in stringlist:\n",
    "        int_value = int(s)\n",
    "        result.append(int_value)\n",
    "    return result"
   ]
  },
  {
   "cell_type": "markdown",
   "metadata": {},
   "source": [
    "To write the whole program, you will need to use a loop to iterate over the list of lines you get from `get_grades_exams()`.  Then, for each line in the file:\n",
    "1. Split the line on the comma characters (`','`) to get a list of individual entries.\n",
    "2. Get just the exam grades from that list (use slicing!).\n",
    "3. Convert the exam grades (currently strings) into integers using `strings_to_ints()`.\n",
    "4. Compute the average of those exam grades (remember the built-in functions like `sum()` and `len()`!)\n",
    "5. Print the student's name and the exam average in aligned columns, with 2 digits after the score's decimal place."
   ]
  },
  {
   "cell_type": "markdown",
   "metadata": {},
   "source": [
    "[Optional, but it could help:] To start, you might want to use the cell below to prototype and test code for processing a **single** line from the file.  It is often easier to work out the code for a single line first and *then* write a loop to process all of the lines in the file.  The cell defines a variable containing the first line of the file in a string that you can use for testing.  Once you have this working, then the next step would be to write code that applies this to every line of the file."
   ]
  },
  {
   "cell_type": "code",
   "execution_count": null,
   "metadata": {},
   "outputs": [],
   "source": [
    "test_line = \"Victor Frankenstein,B+,B-,D,F,C-,53,36,55,95\"\n",
    "# Optional: develop your code to process a single line here."
   ]
  },
  {
   "cell_type": "markdown",
   "metadata": {},
   "source": [
    "Write your complete program for this problem in the cell below."
   ]
  },
  {
   "cell_type": "code",
   "execution_count": null,
   "metadata": {},
   "outputs": [],
   "source": [
    "# Write and test your program here."
   ]
  },
  {
   "cell_type": "markdown",
   "metadata": {},
   "source": [
    "The output should look something like:\n",
    "```\n",
    "Name                   Exam Average\n",
    "Victor Frankenstein    59.75\n",
    "Robert Walton          74.50\n",
    "Justine Moritz         67.75\n",
    "Elizabeth Lavenza      68.75\n",
    "Henry Clerval          80.75\n",
    "Caroline Beaufort      90.75\n",
    "The Monster            100.00\n",
    "```"
   ]
  },
  {
   "cell_type": "markdown",
   "metadata": {},
   "source": [
    "***"
   ]
  },
  {
   "cell_type": "markdown",
   "metadata": {},
   "source": [
    "## OPTIONAL: Final Gradebook Coding Challenge (0%, this does not count for the assignment grade but it is a good way to practice your skills)"
   ]
  },
  {
   "cell_type": "markdown",
   "metadata": {},
   "source": [
    "Calculate and print the final scores in Professor Shelley's class.\n",
    "\n",
    "First, modify your `drop_lowest()` function to allow the user to specify the number of items to be dropped. Two arguments will be given to the function: a list of values, and the number of lowest values to remove. The function will return a list with the specified number of lowest values returned.  \n",
    "\n",
    "Get the grade data using the `get_grades()` function already defined above.\n",
    "\n",
    "For each student:\n",
    "1. Extract separate lists of paper grades and exam scores.\n",
    "2. Convert the paper grades into numerical scores using `letter_to_score()` (this will need a nested for loop).\n",
    "3. Drop the lowest **two** paper scores and the lowest **one** exam score using `drop_lowest()`.\n",
    "4. Calculate the average exam and average paper scores.\n",
    "5. Calculate the Final Score by averaging the average exam and average paper scores.\n",
    "5. Print the student's name and the final score in aligned columns, with 2 digits after the score's decimal place.\n",
    "\n",
    "Again, make sure the results are printed in a nicely-formatted table.  For example:\n",
    "```\n",
    "Name                   Final Score\n",
    "Victor Frankenstein    74.17\n",
    "Robert Walton          85.00\n",
    "Justine Moritz         82.67\n",
    "Elizabeth Lavenza      82.83\n",
    "Henry Clerval          90.00\n",
    "Caroline Beaufort      90.83\n",
    "The Monster            98.00\n",
    "```"
   ]
  },
  {
   "cell_type": "code",
   "execution_count": null,
   "metadata": {},
   "outputs": [],
   "source": [
    "# Write and test your program here."
   ]
  }
 ],
 "metadata": {
  "kernelspec": {
   "display_name": "Python 3",
   "language": "python",
   "name": "python3"
  },
  "language_info": {
   "codemirror_mode": {
    "name": "ipython",
    "version": 3
   },
   "file_extension": ".py",
   "mimetype": "text/x-python",
   "name": "python",
   "nbconvert_exporter": "python",
   "pygments_lexer": "ipython3",
   "version": "3.6.5"
  }
 },
 "nbformat": 4,
 "nbformat_minor": 2
}
