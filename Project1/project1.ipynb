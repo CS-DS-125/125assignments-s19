{
 "cells": [
  {
   "cell_type": "markdown",
   "metadata": {},
   "source": [
    "# Project 1: Data Analysis and Visualization with Categorical Data"
   ]
  },
  {
   "cell_type": "markdown",
   "metadata": {},
   "source": [
    "The instructions for this assignment are available in Moodle. "
   ]
  },
  {
   "cell_type": "markdown",
   "metadata": {},
   "source": [
    "### Saving Drafts and Submitting"
   ]
  },
  {
   "cell_type": "markdown",
   "metadata": {},
   "source": [
    "Before you do anything else, execute the cell below. This will prompt you to log in and then save your work via an online submission system.\n",
    "\n",
    "You can re-run the cell and to submit your work as many times as you want before the deadline. We will only grade your final submission.\n",
    "\n",
    "Any time you want to submit your work, select \"Save Notebook\" in the File menu (or press the Save icon, or press <kbd>Ctrl+S</kbd>) and then execute the cell again.  The result will contain a link that you can use to check that your assignment has been submitted successfully.\n",
    "\n",
    "*[Executing this may print some errors saying \"Javascript Error: IPython is not defined\"; those may safely be ignored.]*"
   ]
  },
  {
   "cell_type": "code",
   "execution_count": null,
   "metadata": {
    "editable": false
   },
   "outputs": [],
   "source": [
    "# This cell is just for submitting your work.\n",
    "# Each time you execute it, a copy of this notebook will be uploaded to the submission system.\n",
    "from client.api.notebook import Notebook\n",
    "ok = Notebook('project1.ok')\n",
    "import os\n",
    "if not os.path.exists(os.path.join(os.environ.get(\"HOME\"), \".config/ok/auth_refresh\")):\n",
    "    ok.auth(force=True)\n",
    "else:\n",
    "    ok.auth(inline=True)\n",
    "_ = ok.submit()"
   ]
  },
  {
   "cell_type": "markdown",
   "metadata": {},
   "source": [
    "***\n",
    "***\n",
    "**Edit the markdown blocks below. Replace the instructions for each section with information about your project.**\n",
    "\n",
    "# Title of Your Analysis (replace this with your title)\n",
    "* Include your name and the date here\n",
    "* The title should succinctly convey the key question or finding.\n",
    "* In a few sentences identify the research question you will explore with the dataset. Explain why the research question is of interest to you, and may be of interest to a potential audience.\n"
   ]
  },
  {
   "cell_type": "markdown",
   "metadata": {},
   "source": [
    "***\n",
    "## Authorship and Resources Used\n",
    "* Include your name here\n",
    "* If you received any assistance from anyone else, state who you consulted and specifically how they helped\n",
    "* If you used any other resources, state what they were and specifically how they helped, include links to the resources. [Markdown links use this formatting.](https://github.com/adam-p/markdown-here/wiki/Markdown-Cheatsheet#links)"
   ]
  },
  {
   "cell_type": "markdown",
   "metadata": {},
   "source": [
    "***\n",
    "## Data Description and Source\n",
    "* In a few sentences describe the dataset you selected for analysis.\n",
    "* Data attribution: describe where the data came from, provide links."
   ]
  },
  {
   "cell_type": "markdown",
   "metadata": {},
   "source": [
    "***\n",
    "## Ethics\n",
    "* In a few sentences identify any potential harm that might results from your analysis. If you see no possible harm, state your reasons. If you do see potential harm, identify who might be at risk. "
   ]
  },
  {
   "cell_type": "markdown",
   "metadata": {},
   "source": [
    "***\n",
    "## Import Libraries and Set Preferences for Visualization"
   ]
  },
  {
   "cell_type": "code",
   "execution_count": null,
   "metadata": {},
   "outputs": [],
   "source": [
    "# enter and test your code here"
   ]
  },
  {
   "cell_type": "markdown",
   "metadata": {},
   "source": [
    "***\n",
    "## Read and Verify Data"
   ]
  },
  {
   "cell_type": "code",
   "execution_count": null,
   "metadata": {},
   "outputs": [],
   "source": [
    "# enter and test your code here"
   ]
  },
  {
   "cell_type": "markdown",
   "metadata": {},
   "source": [
    "***\n",
    "## Descriptive Statistics and Visualizations\n",
    "* In each step you need to clearly articulate what you are doing, why you are doing it, and what you have learned from the step\n",
    "* Provide a specific clear and concise justication for why the types of visualization(s) you chose are well suited to the data and your question."
   ]
  },
  {
   "cell_type": "code",
   "execution_count": null,
   "metadata": {},
   "outputs": [],
   "source": [
    "# enter and test your code here"
   ]
  },
  {
   "cell_type": "markdown",
   "metadata": {},
   "source": [
    "***\n",
    "## Conclusions\n",
    "* Provide a summary of your results and a discussion of what has been learned from your project in this markdown block\n"
   ]
  }
 ],
 "metadata": {
  "kernelspec": {
   "display_name": "Python 3",
   "language": "python",
   "name": "python3"
  },
  "language_info": {
   "codemirror_mode": {
    "name": "ipython",
    "version": 3
   },
   "file_extension": ".py",
   "mimetype": "text/x-python",
   "name": "python",
   "nbconvert_exporter": "python",
   "pygments_lexer": "ipython3",
   "version": "3.6.5"
  }
 },
 "nbformat": 4,
 "nbformat_minor": 2
}
