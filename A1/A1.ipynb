{
 "cells": [
  {
   "cell_type": "markdown",
   "metadata": {},
   "source": [
    "# Assignment 1: Writing Simple Programs"
   ]
  },
  {
   "cell_type": "markdown",
   "metadata": {},
   "source": [
    "To complete this assignment, choose **one** of the two options below.  The first option has three problems to complete.  The second option is one larger, more complex program, and while it is just one program instead of three, it is likely to be somewhat more challenging than the three in the first option.\n",
    "\n",
    "For all problems, write and test the code in this notebook."
   ]
  },
  {
   "cell_type": "markdown",
   "metadata": {},
   "source": [
    "### Saving Drafts and Submitting"
   ]
  },
  {
   "cell_type": "markdown",
   "metadata": {},
   "source": [
    "Before you do anything else, execute the cell below. This will prompt you to log in and then save your work via an online submission system.\n",
    "\n",
    "You can re-run the cell and to submit your work as many times as you want before the deadline. We will only grade your final submission.\n",
    "\n",
    "Any time you want to submit your work, select \"Save Notebook\" in the File menu (or press the Save icon, or press <kbd>Ctrl+S</kbd>) and then execute the cell again.  The result will contain a link that you can use to check that your assignment has been submitted successfully.\n",
    "\n",
    "*[Executing this may print some errors saying \"Javascript Error: IPython is not defined\"; those may safely be ignored.]*"
   ]
  },
  {
   "cell_type": "code",
   "execution_count": null,
   "metadata": {
    "editable": false
   },
   "outputs": [],
   "source": [
    "# This cell is just for submitting your work.\n",
    "# Each time you execute it, a copy of this notebook will be uploaded to the submission system.\n",
    "from client.api.notebook import Notebook\n",
    "ok = Notebook('A1.ok')\n",
    "import os\n",
    "if not os.path.exists(os.path.join(os.environ.get(\"HOME\"), \".config/ok/auth_refresh\")):\n",
    "    ok.auth(force=True)\n",
    "else:\n",
    "    ok.auth(inline=True)\n",
    "_ = ok.submit()"
   ]
  },
  {
   "cell_type": "markdown",
   "metadata": {},
   "source": [
    "***\n",
    "\n",
    "## Option 1\n",
    "\n",
    "Complete the three following problems."
   ]
  },
  {
   "cell_type": "markdown",
   "metadata": {},
   "source": [
    "***\n",
    "\n",
    "### Problem 1)\n",
    "\n",
    "In many data analysis tasks, you receive data in not quite the right form for processing.  For example, imagine that you have time duration data stored as an integer number of weeks and a separate integer number of days, but you want to process it simply as a number of days.  Write a program to perform this conversion.\n",
    "\n",
    "Example output:\n",
    "\n",
    "```\n",
    "This program converts from weeks and days to total days.\n",
    "\n",
    "Please enter the number of weeks: 12\n",
    "Please enter the number of days: 4\n",
    "\n",
    "That is 88 days in total.\n",
    "```"
   ]
  },
  {
   "cell_type": "code",
   "execution_count": null,
   "metadata": {},
   "outputs": [],
   "source": [
    "# Write and test your code in this cell."
   ]
  },
  {
   "cell_type": "markdown",
   "metadata": {},
   "source": [
    "***\n",
    "\n",
    "### Problem 2)\n",
    "\n",
    "This is similar to 1), but now imagine you receive data that has durations measured in days, possibly with a fractional (non-whole-number) part, and you want each duration as an integer number of years and a possibly-fractional number of days.  Write a program to perform this conversion.  For simplicity's sake, assume all years have 365 days.  (But do note how even this simple sort of data manipulation has an interesting complication in reality.)\n",
    "\n",
    "Example output:\n",
    "\n",
    "```\n",
    "This program converts from days to years and days.\n",
    "\n",
    "Please enter the number of days: 1234.25\n",
    "\n",
    "That is 3 years and 139.25 days.\n",
    "```\n",
    "\n",
    "For full credit, make sure the number of years is an integer and prints out as one (i.e., without any decimal part)."
   ]
  },
  {
   "cell_type": "code",
   "execution_count": null,
   "metadata": {},
   "outputs": [],
   "source": [
    "# Write and test your code in this cell."
   ]
  },
  {
   "cell_type": "markdown",
   "metadata": {},
   "source": [
    "***\n",
    "\n",
    "### Problem 3)\n",
    "\n",
    "Another common data manipulation involves joining multiple strings into one (and sometimes the reverse: splitting one string into mutiple).  For example, you might receive data that has first and last names in separate variables, but you need them in a single, joined string.\n",
    "\n",
    "Write a program that asks the user to input a first name and a last name, then joins them together into one string (separated by a space character), and prints out both the joined name and the total number of characters in that new string.\n",
    "\n",
    "Example output:\n",
    "\n",
    "```\n",
    "This program joins two names into one string and counts the new string's length.\n",
    "\n",
    "Please enter the first name: Mark\n",
    "Please enter the last name: Liffiton\n",
    "\n",
    "The combined name is 'Mark Liffiton', which has 13 characters.\n",
    "```"
   ]
  },
  {
   "cell_type": "code",
   "execution_count": null,
   "metadata": {},
   "outputs": [],
   "source": [
    "# Write and test your code in this cell."
   ]
  },
  {
   "cell_type": "markdown",
   "metadata": {},
   "source": [
    "***\n",
    "\n",
    "## Option 2\n",
    "\n",
    "Starting from the [example wordcount program in the textbook](https://snakebear.science/01-Introduction/ExampleProgram.html), develop a modified program that lets you calculate and compare the average word length for all words in a file that start with one of two given letters.\n",
    "\n",
    "The user should be prompted to input:\n",
    "1. A filename.\n",
    "2. The first letter.\n",
    "3. The second letter.\n",
    "\n",
    "The program should then print the average number of letters per word in the file overall, the average length of words starting with the first given letter, and the average length of words starting with the second given letter.  Counts for how many words were included in each average should be printed as well.\n",
    "\n",
    "Example output:\n",
    "\n",
    "```\n",
    "This program compares the average word length for all words\n",
    "in a given file that start with one of two given letters.\n",
    "\n",
    "Please enter the name of the file to process: atotc_opening.txt\n",
    "Please enter the first letter: b\n",
    "Please enter the second letter: o\n",
    "\n",
    "The average word length overall (119 words) is 4.159663865546219.\n",
    "The average word length for words starting with 'b' (5 words) is 5.6.\n",
    "The average word length for words starting with 'o' (16 words) is 2.375.\n",
    "```\n",
    "\n",
    "We have provided three files you can use to test your code:\n",
    "- `atotc_opening.txt` - The opening to *A Tale of Two Cities*\n",
    "- `atotc.txt` - The full text of *A Tale of Two Cities*\n",
    "- `pandp.txt` - The full text of *Pride and Prejudice*\n",
    "\n",
    "When testing your code, you should try it with all three of those files to make sure it works in those different cases.  You can also upload your own files to Jupyterhub to run your program against them.\n",
    "\n",
    "For an added challenge (not required but might be fun): See if you can figure out how to display the average lengths rounded to three decimal places, because more precision than that probably isn't very useful or meaningful."
   ]
  },
  {
   "cell_type": "code",
   "execution_count": null,
   "metadata": {},
   "outputs": [],
   "source": [
    "# Write and test your code in this cell."
   ]
  }
 ],
 "metadata": {
  "kernelspec": {
   "display_name": "Python 3",
   "language": "python",
   "name": "python3"
  },
  "language_info": {
   "codemirror_mode": {
    "name": "ipython",
    "version": 3
   },
   "file_extension": ".py",
   "mimetype": "text/x-python",
   "name": "python",
   "nbconvert_exporter": "python",
   "pygments_lexer": "ipython3",
   "version": "3.6.5"
  }
 },
 "nbformat": 4,
 "nbformat_minor": 2
}
