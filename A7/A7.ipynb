{
 "cells": [
  {
   "cell_type": "markdown",
   "metadata": {},
   "source": [
    "# Assignment 7: A Data Game"
   ]
  },
  {
   "cell_type": "markdown",
   "metadata": {},
   "source": [
    "This assignment practices Python coding.  You will be using some pandas and data visualization tools as well as practicing many of the tools and concepts learned earlier in the semester.\n",
    "\n",
    "The game is guessing game somewhat reminiscent of Guppies but now competitive between two players.  The game shows the players a scatterplot of two columns selected randomly from a file, and asks each to guess what the correlation of the two columns is.  The player with the closest guess in each round gets a point.  The player with the most points at the end of the game wins.  For an example of what the game should look like, see [`A7_sample_output.ipynb`](A7_sample_output.ipynb).\n",
    "\n",
    "To organize your code, much of the game is broken into separate functions.  Each section below contains one function that you should develop.  Each function is specified in a **documentation comment** at the start of the function (often called a \"docstring\") describing what the function should do, what arguments it takes, and what it returns (if anything).  Follow the given specification exactly, and write your code for each function after the documentation comment.\n",
    "\n",
    "After each function, there is a place to test the function.  Write some code matching the described test, and use that to test your function as you develop it.  The tests will help you know when each function is working correctly.  Feel free to write and use additional tests as well for further confirmation that your code is correct and/or for help finding bugs.\n",
    "\n",
    "It is always a good idea to test any code you write with a variety of inputs.  In this directory, we've provided two .csv files to test against; feel free to add others to try as well."
   ]
  },
  {
   "cell_type": "markdown",
   "metadata": {},
   "source": [
    "### Saving Drafts and Submitting"
   ]
  },
  {
   "cell_type": "markdown",
   "metadata": {},
   "source": [
    "Before you do anything else, execute the cell below. This will prompt you to log in and then save your work via an online submission system.\n",
    "\n",
    "You can re-run the cell and to submit your work as many times as you want before the deadline. We will only grade your final submission.\n",
    "\n",
    "Any time you want to submit your work, select \"Save Notebook\" in the File menu (or press the Save icon, or press <kbd>Ctrl+S</kbd>) and then execute the cell again.  The result will contain a link that you can use to check that your assignment has been submitted successfully.\n",
    "\n",
    "*[Executing this may print some errors saying \"Javascript Error: IPython is not defined\"; those may safely be ignored.]*"
   ]
  },
  {
   "cell_type": "code",
   "execution_count": null,
   "metadata": {
    "editable": false
   },
   "outputs": [],
   "source": [
    "# This cell is just for submitting your work.\n",
    "# Each time you execute it, a copy of this notebook will be uploaded to the submission system.\n",
    "from client.api.notebook import Notebook\n",
    "ok = Notebook('A7.ok')\n",
    "import os\n",
    "if not os.path.exists(os.path.join(os.environ.get(\"HOME\"), \".config/ok/auth_refresh\")):\n",
    "    ok.auth(force=True)\n",
    "else:\n",
    "    ok.auth(inline=True)\n",
    "_ = ok.submit()"
   ]
  },
  {
   "cell_type": "markdown",
   "metadata": {},
   "source": [
    "### Authorship and Resources Used\n",
    "* Include your name here\n",
    "* If you received any assistance from anyone else, state who you consulted and specifically how they helped\n",
    "* If you used any other resources, state what they were and specifically how they helped, include links to the resources. [Markdown links use this formatting.](https://github.com/adam-p/markdown-here/wiki/Markdown-Cheatsheet#links)"
   ]
  },
  {
   "cell_type": "markdown",
   "metadata": {},
   "source": [
    "***"
   ]
  },
  {
   "cell_type": "markdown",
   "metadata": {},
   "source": [
    "## Imports"
   ]
  },
  {
   "cell_type": "markdown",
   "metadata": {},
   "source": [
    "The following imports will be needed in your code below.  Do not remove any."
   ]
  },
  {
   "cell_type": "code",
   "execution_count": null,
   "metadata": {},
   "outputs": [],
   "source": [
    "import pandas as pd\n",
    "import matplotlib.pyplot as plt\n",
    "import getpass\n",
    "import random"
   ]
  },
  {
   "cell_type": "markdown",
   "metadata": {},
   "source": [
    "***\n",
    "\n",
    "## Function: Find numeric columns in a dataframe"
   ]
  },
  {
   "cell_type": "markdown",
   "metadata": {},
   "source": [
    "Tips:\n",
    "\n",
    " * Information about columns in a dataframe can be accessed using `dataframe.dtypes`, which gives you a Pandas Series of the column's datatypes.\n",
    " * To access the values in a Series, you can use the `.items()` method on the Series object.  The `.items()` method will return a sequence of *tuples*, where each tuple contains a column label at index 0 and the matching datatype at index 1.\n",
    " * You can use a for loop to iterate over the sequence, and use indexing to access the label and the datatype within each tuple.\n",
    " * The datatype for any numeric column will be either `'int64'` or `'float64'`.\n",
    " \n",
    "**We're giving you this function.  You still need to write a test for it, below.**"
   ]
  },
  {
   "cell_type": "code",
   "execution_count": null,
   "metadata": {},
   "outputs": [],
   "source": [
    "def find_numeric_cols(df):\n",
    "    \"\"\"Returns a list of column labels for the numeric columns in a dataframe.\n",
    "    \n",
    "    Numeric columns have a datatype of either 'int64' or 'float64'.\n",
    "    \n",
    "    Args:\n",
    "        df: A pandas dataframe.\n",
    "    \n",
    "    Returns:\n",
    "        A list of strings, each one the label of a numeric column in df.\n",
    "    \"\"\"\n",
    "    numeric_cols = []\n",
    "    for column in df.dtypes.items():\n",
    "        if column[1] == 'int64' or column[1] == 'float64':\n",
    "            numeric_cols.append(column[0])\n",
    "    return numeric_cols"
   ]
  },
  {
   "cell_type": "markdown",
   "metadata": {},
   "source": [
    "#### Test\n",
    "\n",
    "Create a dataframe from a given file; verify that `find_numeric_cols()` returns a list that contains all of its numeric columns and none of its non-numeric columns."
   ]
  },
  {
   "cell_type": "code",
   "execution_count": null,
   "metadata": {},
   "outputs": [],
   "source": [
    "# Test find_numeric_cols()"
   ]
  },
  {
   "cell_type": "markdown",
   "metadata": {},
   "source": [
    "***\n",
    "\n",
    "## Function: Display one \"problem\" (scatterplot)"
   ]
  },
  {
   "cell_type": "code",
   "execution_count": null,
   "metadata": {},
   "outputs": [],
   "source": [
    "def show_pair(df, col1, col2):\n",
    "    \"\"\"Shows a scatterplot of the given columns from the given dataframe.\n",
    "    \n",
    "    Args:\n",
    "        df: A pandas dataframe.\n",
    "        col1 (str): Label of the column for the scatterplot's x-axis.\n",
    "        col2 (str): Label of the column for the scatterplot's y-axis.\n",
    "    \"\"\""
   ]
  },
  {
   "cell_type": "markdown",
   "metadata": {},
   "source": [
    "#### Test\n",
    "\n",
    "Create a dataframe from a given file, call `show_pair()` with the dataframe and two known numeric columns, and verify that a scatterplot of those columns is shown."
   ]
  },
  {
   "cell_type": "code",
   "execution_count": null,
   "metadata": {},
   "outputs": [],
   "source": [
    "# Test show_pair()"
   ]
  },
  {
   "cell_type": "markdown",
   "metadata": {},
   "source": [
    "***\n",
    "\n",
    "## Function: Setup and display one problem (one round) of the game"
   ]
  },
  {
   "cell_type": "markdown",
   "metadata": {},
   "source": [
    "Tips:\n",
    "\n",
    " * To choose a column randomly, you can use the [`random.choice()` [docs]](https://docs.python.org/3/library/random.html#random.choice) function in the `random` module (already imported above).\n",
    " * To choose two randomly at once, [`random.choices()` [docs]](https://docs.python.org/3/library/random.html#random.choices) will work.  You will have to specify a value for the `k` argument.  The function returns a list of `k` elements, and you can use indexing to access the individual choices.\n",
    " * Using `random.choice()` twice might be easier -- either works."
   ]
  },
  {
   "cell_type": "code",
   "execution_count": null,
   "metadata": {},
   "outputs": [],
   "source": [
    "def next_problem(df):\n",
    "    \"\"\"Creates and displays a new problem for the game.\n",
    "    \n",
    "    Given a dataframe, this chooses two numeric columns randomly from\n",
    "    the dataframe, shows a scatterplot of those columns using show_pair(),\n",
    "    and returns the correlation of those two columns.\n",
    "    \n",
    "    Args:\n",
    "        df: A pandas dataframe.\n",
    "        \n",
    "    Returns (float):\n",
    "        The correlation value for the two selected columns.\n",
    "    \"\"\""
   ]
  },
  {
   "cell_type": "markdown",
   "metadata": {},
   "source": [
    "#### Test\n",
    "\n",
    "Create a dataframe from a given file, and call `new_problem()` a few times, verifying that it shows a scatterplot of a random selection of 2 numeric columns from the dataframe each time it is called **and** that it returns the correlation between those columns each time."
   ]
  },
  {
   "cell_type": "code",
   "execution_count": null,
   "metadata": {},
   "outputs": [],
   "source": [
    "# Test next_problem()"
   ]
  },
  {
   "cell_type": "markdown",
   "metadata": {},
   "source": [
    "***\n",
    "\n",
    "## Function: Get guesses from players and find closest to correct value"
   ]
  },
  {
   "cell_type": "markdown",
   "metadata": {},
   "source": [
    "Tips:\n",
    "\n",
    " * To ask the user for input without showing what they type on the screen, use [`getpass.getpass()`](https://docs.python.org/3/library/getpass.html#getpass.getpass) from the `getpass` module (already imported above).  It works almost identically to the `input()` function, but it replaces whatever characters the user types with dots.\n",
    " * Make sure to compare the *absolute values* of the differences between each guess and the correct value using `abs()`.  Guesses can be close to the correct value either above or below it, and it's only the magnitude of the difference that matters here, not the direction (above or below)."
   ]
  },
  {
   "cell_type": "code",
   "execution_count": null,
   "metadata": {},
   "outputs": [],
   "source": [
    "def get_check_guesses(player1, player2, correct):\n",
    "    \"\"\"Ask for and check guesses from two players.\n",
    "    \n",
    "    Each player is asked for a guess using getpass.getpass() to hide their input from the\n",
    "    other player.  Then the actual value is displayed.  The function prints a message\n",
    "    stating which player's guess was closest to the actual value, or it prints a message\n",
    "    saying both were an equal distance from the value if that is the case.  The name\n",
    "    of the player with the closest guess is returned, or None is returned if the guesses\n",
    "    were equal distances from the correct value.\n",
    "    \n",
    "    Args:\n",
    "        player1 (string): Name of the first player.\n",
    "        player2 (string): Name of the second player.\n",
    "        correct (float): Correct value the players are attempting to guess.\n",
    "        \n",
    "    Returns:\n",
    "        player1, player2, or None, depending on whether the first player's guess\n",
    "        was closest, the second player's guess was closest, or both guesses were\n",
    "        equally close, respectively.\n",
    "    \"\"\""
   ]
  },
  {
   "cell_type": "markdown",
   "metadata": {},
   "source": [
    "#### Test\n",
    "\n",
    "Call `get_check_guesses()` a few times with two player name strings and a particular correct value.  Verify that guesses are recorded without displaying them, that each player can 'win' if they are the closest one to the correct value, that the function returns the correct name (or None) in all cases, and that ties are handled correctly."
   ]
  },
  {
   "cell_type": "code",
   "execution_count": null,
   "metadata": {},
   "outputs": [],
   "source": [
    "# Test get_check_guesses()"
   ]
  },
  {
   "cell_type": "markdown",
   "metadata": {},
   "source": [
    "***\n",
    "\n",
    "## Function: Add additional columns (adds variety)"
   ]
  },
  {
   "cell_type": "markdown",
   "metadata": {},
   "source": [
    "Because this just adds variety and is not critical to the functioning of the game, it's probably best to implement and test everything else first."
   ]
  },
  {
   "cell_type": "code",
   "execution_count": null,
   "metadata": {},
   "outputs": [],
   "source": [
    "def add_negations(df):\n",
    "    \"\"\"Creates a new dataframe containing columns from a given dataframe and their negations.\n",
    "    \n",
    "    Args:\n",
    "        df: a pandas dataframe.  The function can assume that this only contains numeric columns.\n",
    "    \n",
    "    Returns:\n",
    "        A new dataframe containing all columns from df plus negated (times -1) versions of those columns.\n",
    "    \"\"\""
   ]
  },
  {
   "cell_type": "markdown",
   "metadata": {},
   "source": [
    "#### Test\n",
    "\n",
    "Setup: Create a dataframe from a given file, use `find_numeric_cols()` to find the numeric columns, and then make a new dataframe containing just those numeric columns.\n",
    "\n",
    "Test: Give that dataframe of numeric columns to `add_negations()`, verifying that it returns a new dataframe containing additional negated columns, one for each column in the given dataframe.  Also verify that the original dataframe has not been changed by calling this function; that is, make sure it does return a copy and adds the new columns only to the copy."
   ]
  },
  {
   "cell_type": "code",
   "execution_count": null,
   "metadata": {},
   "outputs": [],
   "source": [
    "# Test add_negations()"
   ]
  },
  {
   "cell_type": "markdown",
   "metadata": {},
   "source": [
    "***\n",
    "\n",
    "## Main program\n",
    "\n",
    "Write the code for the game here, using all of the functions you have defined above.  See `A7_sample_output.ipynb` for an example of how the game should work and what it should output.  A few things that may not be evident from the sample output:\n",
    "\n",
    " * The program should make a copy of just the numeric columns from the selected data and use that for the game.\n",
    " * For additional variety in the generated scatterplots and correlation values, the program should add negated versions of all numeric columns to the dataframe before starting.\n",
    " * If the two users tie, the program should output `\"Tie!  No winner this time.\"`\n",
    " * The game should repeat for at least 4 rounds.  (You can make it longer if you prefer.)\n",
    " * The dataset `fandango_score_comparison.csv` has been provided here, but you can upload other datasets to try them out in the game as well.\n",
    " * To pause with a prompt of \"Press enter to continue...\", you can use a call to `input()` with that prompt string."
   ]
  },
  {
   "cell_type": "code",
   "execution_count": null,
   "metadata": {},
   "outputs": [],
   "source": [
    "print(\"=======================\")\n",
    "print(\"Welcome to DataGuppies!\")\n",
    "print(\"=======================\")\n",
    "print()\n",
    "\n",
    "# Write your program here..."
   ]
  }
 ],
 "metadata": {
  "kernelspec": {
   "display_name": "Python 3",
   "language": "python",
   "name": "python3"
  },
  "language_info": {
   "codemirror_mode": {
    "name": "ipython",
    "version": 3
   },
   "file_extension": ".py",
   "mimetype": "text/x-python",
   "name": "python",
   "nbconvert_exporter": "python",
   "pygments_lexer": "ipython3",
   "version": "3.6.5"
  }
 },
 "nbformat": 4,
 "nbformat_minor": 2
}
