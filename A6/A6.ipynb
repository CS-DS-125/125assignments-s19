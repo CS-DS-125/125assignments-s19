{
 "cells": [
  {
   "cell_type": "markdown",
   "metadata": {},
   "source": [
    "# Assignment 6: Data Manipulation"
   ]
  },
  {
   "cell_type": "markdown",
   "metadata": {},
   "source": [
    "This assignment practices data manipulation using Pandas.  All of the problems use data from the `cars.csv` file sourced from the [CORGIS project](https://think.cs.vt.edu/corgis/csv/index.html).  The [CORGIS page for the Cars data](https://think.cs.vt.edu/corgis/csv/cars/cars.html) includes an explanation of where the data came from and descriptions of each column in the data set."
   ]
  },
  {
   "cell_type": "markdown",
   "metadata": {},
   "source": [
    "The percentages listed for each part indicate how much each one will contribute to the \"correctness\" portion of the grade for this assignment.  The other grading criteria from the rubric will be applied across all your code.\n",
    "\n",
    "Each part can be completed independent of the others, so if you are stuck on one for a bit, you can move on to the next one without issue."
   ]
  },
  {
   "cell_type": "markdown",
   "metadata": {},
   "source": [
    "### Saving Drafts and Submitting"
   ]
  },
  {
   "cell_type": "markdown",
   "metadata": {},
   "source": [
    "Before you do anything else, execute the cell below. This will prompt you to log in and then save your work via an online submission system.\n",
    "\n",
    "You can re-run the cell and to submit your work as many times as you want before the deadline. We will only grade your final submission.\n",
    "\n",
    "Any time you want to submit your work, select \"Save Notebook\" in the File menu (or press the Save icon, or press <kbd>Ctrl+S</kbd>) and then execute the cell again.  The result will contain a link that you can use to check that your assignment has been submitted successfully.\n",
    "\n",
    "*[Executing this may print some errors saying \"Javascript Error: IPython is not defined\"; those may safely be ignored.]*"
   ]
  },
  {
   "cell_type": "code",
   "execution_count": null,
   "metadata": {
    "editable": false
   },
   "outputs": [],
   "source": [
    "# This cell is just for submitting your work.\n",
    "# Each time you execute it, a copy of this notebook will be uploaded to the submission system.\n",
    "from client.api.notebook import Notebook\n",
    "ok = Notebook('A6.ok')\n",
    "import os\n",
    "if not os.path.exists(os.path.join(os.environ.get(\"HOME\"), \".config/ok/auth_refresh\")):\n",
    "    ok.auth(force=True)\n",
    "else:\n",
    "    ok.auth(inline=True)\n",
    "_ = ok.submit()"
   ]
  },
  {
   "cell_type": "markdown",
   "metadata": {},
   "source": [
    "### Authorship and Resources Used\n",
    "* Include your name here\n",
    "* If you received any assistance from anyone else, state who you consulted and specifically how they helped\n",
    "* If you used any other resources, state what they were and specifically how they helped, include links to the resources. [Markdown links use this formatting.](https://github.com/adam-p/markdown-here/wiki/Markdown-Cheatsheet#links)"
   ]
  },
  {
   "cell_type": "markdown",
   "metadata": {},
   "source": [
    "***"
   ]
  },
  {
   "cell_type": "markdown",
   "metadata": {},
   "source": [
    "## Imports and Initial Setup (5%)\n",
    "\n",
    "Before writing code for the problems below, we need to set things up for the rest of the notebook.\n",
    "\n",
    "First, import Matplotlib and Pandas:"
   ]
  },
  {
   "cell_type": "code",
   "execution_count": null,
   "metadata": {},
   "outputs": [],
   "source": [
    "# Write any imports needed here."
   ]
  },
  {
   "cell_type": "markdown",
   "metadata": {},
   "source": [
    "The code below is provided to make the charts slightly larger and higher-resolution.  You can run it as-is without modifying it."
   ]
  },
  {
   "cell_type": "code",
   "execution_count": null,
   "metadata": {},
   "outputs": [],
   "source": [
    "# For slightly nicer charts\n",
    "plt.rcParams['figure.figsize'] = [10, 5]\n",
    "plt.rcParams['figure.dpi'] = 150"
   ]
  },
  {
   "cell_type": "markdown",
   "metadata": {},
   "source": [
    "#### Loading Data\n",
    "\n",
    "Because we will be using the same dataset throughout the rest of the notebook, it is best to load the data **once** here.\n",
    "\n",
    "Create a new dataframe object containing the data from `cars.csv`.  Name it `df`.  **Do not** assign anything else to `df` for the rest of the notebook.  We want this to be our source of data for all of the problems, and if one code cell changes `df`, it will affect how all of the others work."
   ]
  },
  {
   "cell_type": "code",
   "execution_count": null,
   "metadata": {},
   "outputs": [],
   "source": [
    "# Write your code to define the df variable here."
   ]
  },
  {
   "cell_type": "markdown",
   "metadata": {},
   "source": [
    "***\n",
    "## Part 1: Inspect the Data (15%)"
   ]
  },
  {
   "cell_type": "markdown",
   "metadata": {},
   "source": [
    "Using the cell below, look at the first **three** rows of the dataframe.  Use this to make sure you have loaded the data into `df` correctly.  What you see should match the rows in `cars.csv`, which you can open by double-clicking on it in the file browser on the left."
   ]
  },
  {
   "cell_type": "code",
   "execution_count": null,
   "metadata": {},
   "outputs": [],
   "source": [
    "# Test whether df is created correctly by viewing first ten rows of the dataframe:"
   ]
  },
  {
   "cell_type": "markdown",
   "metadata": {},
   "source": [
    "Now, generate a table of statistics for the numerical columns in the dataframe.  The table should contain averages, minimum and maximum values, and a few other statistics for each numerical column.  [This should be done in a single line of code.]"
   ]
  },
  {
   "cell_type": "code",
   "execution_count": null,
   "metadata": {},
   "outputs": [],
   "source": [
    "# Write your code here."
   ]
  },
  {
   "cell_type": "markdown",
   "metadata": {},
   "source": [
    "From that table, we can see that heights and widths are most likely reported in inches, but at least one car has a recorded height of 1 inch, and at least one car has a recorded width of 1 inch.  Find out which car or cars have these small values by doing the following:\n",
    "\n",
    " * Sort the dataframe by the 'Height' column, then look at the first 3 rows of the resulting dataframe to find the car(s) with heights of one inch.\n",
    " * Then do the same for the 'Width' column.\n",
    " \n",
    "The code you write should result in displaying the rows for the 3 cars with the smallest recorded heights and the same for the smallest recorded widths."
   ]
  },
  {
   "cell_type": "code",
   "execution_count": null,
   "metadata": {},
   "outputs": [],
   "source": [
    "# Find 1 inch tall cars."
   ]
  },
  {
   "cell_type": "code",
   "execution_count": null,
   "metadata": {},
   "outputs": [],
   "source": [
    "# Find 1 inch wide cars here."
   ]
  },
  {
   "cell_type": "markdown",
   "metadata": {},
   "source": [
    "***\n",
    "\n",
    "## Part 2: Calculating New Columns (15%)"
   ]
  },
  {
   "cell_type": "markdown",
   "metadata": {},
   "source": [
    "Let's imagine we are overly fond of [SI Units](https://en.wikipedia.org/wiki/International_System_of_Units), and so we want to know each car's engine power in watts instead of horsepower.\n",
    "\n",
    "One horsepower is equal to 745.7 watts, so we can convert from horsepower to watts by multiplying by 754.7.\n",
    "\n",
    "Create a new column in the dataframe named 'Watts' that is created by multiplying the 'Horsepower' column by 754.7:"
   ]
  },
  {
   "cell_type": "code",
   "execution_count": null,
   "metadata": {},
   "outputs": [],
   "source": [
    "# Create the 'Watts' column here."
   ]
  },
  {
   "cell_type": "markdown",
   "metadata": {},
   "source": [
    "Write some code that shows you that the 'Watts' column was created and that it holds numerical values that are not all 0 (which could possibly happen if the above code is incorrect).  The specific code you use here is your choice, but it should be a line or two at most, and the output should ideally be no more than a few lines or rows as well."
   ]
  },
  {
   "cell_type": "code",
   "execution_count": null,
   "metadata": {},
   "outputs": [],
   "source": [
    "# Verify that the 'Watts' column was created successfully."
   ]
  },
  {
   "cell_type": "markdown",
   "metadata": {},
   "source": [
    "### Using `.map()` ###\n",
    "\n",
    "There is another way to calculate a new column that can be applied in cases where the computation is more involved than a simple arithmetic expression like you used above.  For example, what if we wanted to extract a specific word out of every string in a column?  We know how to do that in Python if we have a single string variable (we can use `.split()` and indexing, for example), but that won't work on an entire Pandas column.  Pandas columns don't work with *every* tool we have in Python, only some things like arithmetic can be applied to a column directly.\n",
    "\n",
    "For more complex calculations, we can use the `.map()` method on a dataframe column, passing it a *function* that will do the calculation we want.  The example below shows how this would work for the same calculation done above.  Look it over carefully; the comments explain what each part is doing.  (You do not need to change this code; just read and understand it.)"
   ]
  },
  {
   "cell_type": "code",
   "execution_count": null,
   "metadata": {},
   "outputs": [],
   "source": [
    "# First, we define a function with one parameter that returns a new value.\n",
    "# This function should perform whatever operation we want to perform on any *individual* value\n",
    "# in a column.  It will be given one value at a time, and it should return the result for\n",
    "# the individual value it is given.\n",
    "\n",
    "# Here, the function takes a horsepower value and returns that value converted to watts.\n",
    "def hp_to_watts(hp_value):\n",
    "    watts = hp_value * 745.7\n",
    "    return watts\n",
    "\n",
    "# Then, we can use .map() on a column to apply our function to every value in the column.\n",
    "# We call  <dataframe column>.map(<our function>)  giving the function we defined as an argument\n",
    "# to the .map() method.\n",
    "# This will *return* a whole new column.\n",
    "\n",
    "# Here, we apply the hp_to_watts() function to every value in the 'Horsepower' column,\n",
    "# and save the result in a new 'Watts' column.\n",
    "# Note that we are passing the function we just defined as an argument by writing\n",
    "# its name *without* parentheses after it.  We don't want to call hp_to_watts here,\n",
    "# we just want to pass the function to the .map() method to use.\n",
    "df['Watts (new)'] = df['Horsepower'].map(hp_to_watts)\n",
    "\n",
    "# To see the result, we can look at a few specific columns of the dataframe.\n",
    "# The 'Watts (new)' column should be the same as the 'Watts' column you created earlier.\n",
    "check_cols = ['ID', 'Horsepower', 'Watts', 'Watts (new)']\n",
    "df[check_cols]"
   ]
  },
  {
   "cell_type": "markdown",
   "metadata": {},
   "source": [
    "You can use this same idea to *extract* the engine \"displacement\" (its internal volume, measured in liters) from the 'Engine Type' column.  The engine displacement is always the second word in the Engine Type string (e.g., `'3.2L'`, `'2.0L'`, etc.).\n",
    "\n",
    "Write code following the example above that uses `.map()` to create a new column named 'Engine Displacement' that contains the second word in the 'Engine Type' column:\n",
    "\n",
    " * Write a new function named `get_displacement()` that takes a single parameter (`engine_str`) and returns the *second* word in that string.\n",
    " * Use `.map()` to apply your new function to the 'Engine Type' column, and save the result in a new 'Engine Displacement' column."
   ]
  },
  {
   "cell_type": "code",
   "execution_count": null,
   "metadata": {},
   "outputs": [],
   "source": [
    "# Create the 'Engine Displacement' column."
   ]
  },
  {
   "cell_type": "markdown",
   "metadata": {},
   "source": [
    "Write a bit of code to verify that the column was created correctly.  It should show you at least a few values from the 'Engine Displacement' column and let you check that they were correctly extracted from the 'Engine Type' column."
   ]
  },
  {
   "cell_type": "code",
   "execution_count": null,
   "metadata": {},
   "outputs": [],
   "source": [
    "# Verify 'Engine Displacement' was created successfully."
   ]
  },
  {
   "cell_type": "markdown",
   "metadata": {},
   "source": [
    "***\n",
    "## Part 3: Cleaning the Data (15%)"
   ]
  },
  {
   "cell_type": "markdown",
   "metadata": {},
   "source": [
    "The data has a few issues we can clean up."
   ]
  },
  {
   "cell_type": "markdown",
   "metadata": {},
   "source": [
    "First, the 'Engine Type' column is mostly redundant, containing data that is already present in other columns.  Plus, the strings in that column are long, and they make the rows of the dataframe really tall when they are displayed on a small screen.\n",
    "\n",
    "Make a new dataframe called `df_clean1` with the 'Engine Type' column removed."
   ]
  },
  {
   "cell_type": "code",
   "execution_count": null,
   "metadata": {},
   "outputs": [],
   "source": [
    "# Create df_clean1 with 'Engine Type' column removed."
   ]
  },
  {
   "cell_type": "markdown",
   "metadata": {},
   "source": [
    "Verify that `df_clean1` has one less column than `df` by printing the \"shape\" of both of the dataframes."
   ]
  },
  {
   "cell_type": "code",
   "execution_count": null,
   "metadata": {},
   "outputs": [],
   "source": [
    "# Print \"shape\" of df and df_clean1 to verify one column was removed."
   ]
  },
  {
   "cell_type": "markdown",
   "metadata": {},
   "source": [
    "And we might also want to create a dataframe that does not contain the oddly low height and width measurements mentioned earlier.\n",
    "\n",
    "Create a new dataframe called `df_clean2`, starting from `df_clean1`, that only contains rows with a 'Height' value greater than `24` (surely all cars are at least two feet tall?) *and* a 'Width' value greater than `36`."
   ]
  },
  {
   "cell_type": "code",
   "execution_count": null,
   "metadata": {},
   "outputs": [],
   "source": [
    "# Create df_clean2 with rows with small 'Height' and 'Width' values removed."
   ]
  },
  {
   "cell_type": "markdown",
   "metadata": {},
   "source": [
    "Verify that the new dataframe has fewer rows by printing the shapes of `df_clean1` and `df_clean2`."
   ]
  },
  {
   "cell_type": "code",
   "execution_count": null,
   "metadata": {},
   "outputs": [],
   "source": [
    "# Verify that df_clean2 has fewer rows than df_clean1."
   ]
  },
  {
   "cell_type": "markdown",
   "metadata": {},
   "source": [
    "***\n",
    "\n",
    "## Part 4: Data Exploration (15%)"
   ]
  },
  {
   "cell_type": "markdown",
   "metadata": {},
   "source": [
    "Returning to the odd widths and heights noted earlier, you might wonder if the weirdly-low measurements generally occur together in the dataset.  That is, do strangely-small heights occur only or mostly in rows that also have strangely-small widths?\n",
    "\n",
    "A crosstab can help us see which values in two different columns often occur together (in the same row).\n",
    "\n",
    "Generate a crosstab of the 'Height' and 'Width' columns in the *original* dataframe `df` (that is, do *not* use `df_clean1` or `df_clean2`)."
   ]
  },
  {
   "cell_type": "code",
   "execution_count": null,
   "metadata": {},
   "outputs": [],
   "source": [
    "# Generate and display a crosstab of the 'Height' and 'Width' columns."
   ]
  },
  {
   "cell_type": "markdown",
   "metadata": {},
   "source": [
    "... It turns out that the crosstab is too large (it should have 198 rows and 138 columns) and too sparse (it's mostly 0s) to be useful.  Instead, it will work better to make *categories* of height and width values and generate a crosstab of that categorical data.\n",
    "\n",
    "  * Make a new column 'Height Category' based on the 'Height' column that assigns a value of `'Weird'` to heights between 0 and 24, `'Short'` to values from 24 up to 100, `'Normal'` for 100-200, and `'Tall'` for 200-300.\n",
    "  * Make a new column 'Width Category' based on the 'Width' column with the same bins but with labels `'Weird'`, `'Narrow'`, `'Normal`', and `'Tall'`.\n",
    "  * Generate and display a crosstab of the two new categorical columns you've created.\n",
    "  * Interpret your crosstab in the markdown cell below in order to answer the question about whether \"weird\" values mostly or only occur together in the data."
   ]
  },
  {
   "cell_type": "code",
   "execution_count": null,
   "metadata": {},
   "outputs": [],
   "source": [
    "# Create new categorical columns and display a crosstab of those new columns."
   ]
  },
  {
   "cell_type": "markdown",
   "metadata": {},
   "source": [
    "[Write your interpretation of the crosstab here.  Do \"weird\" values occur mostly together in the data?]"
   ]
  },
  {
   "cell_type": "markdown",
   "metadata": {},
   "source": [
    "Maybe a visualization would help us understand these columns better.  Create an appropriate visualization to view the values in the 'Height' and 'Width' columns and the relationship between them.  Make sure it is properly labeled and presented clearly."
   ]
  },
  {
   "cell_type": "code",
   "execution_count": null,
   "metadata": {},
   "outputs": [],
   "source": [
    "# Visualization of Width and Height data"
   ]
  },
  {
   "cell_type": "markdown",
   "metadata": {},
   "source": [
    "Given how that data *looks*, and given that 250 inches is about 21 feet...  The 'Width' and 'Height' columns (and 'Length' as well, if you look at it) do not make much sense at all..."
   ]
  },
  {
   "cell_type": "markdown",
   "metadata": {},
   "source": [
    "***\n",
    "## Part 5: Doing it \"Manually\" (20%)"
   ]
  },
  {
   "cell_type": "markdown",
   "metadata": {},
   "source": [
    "It's often useful to be able to reproduce the work that a library function (e.g., something built in to Pandas) does for you.  This is useful if you need to do the same work but in a slightly different way that the provided function cannot handle, and rewriting an existing function can give you a clearer idea of how the provided function works, as well.\n",
    "\n",
    "Here, let's look at the problem of finding the average highway mpg (from the 'Highway mpg' column) for a variety of subsets of the data."
   ]
  },
  {
   "cell_type": "markdown",
   "metadata": {},
   "source": [
    "### 1) Average over all data\n",
    "\n",
    "Find the average (mean) of the 'Highway mpg' column for the entire dataset in two ways:\n",
    "\n",
    "1. Use Pandas to compute and display the average in one line of code.\n",
    "2. Use `.tolist()` to get a plain Python list representation of the 'Highway mpg' column, then write plain Python code (using no other Pandas functions) to compute and display the average of the values in that list.\n",
    "\n",
    "Do each of those in one of the two following code cells."
   ]
  },
  {
   "cell_type": "code",
   "execution_count": null,
   "metadata": {},
   "outputs": [],
   "source": [
    "# Compute the average using Pandas"
   ]
  },
  {
   "cell_type": "code",
   "execution_count": null,
   "metadata": {},
   "outputs": [],
   "source": [
    "# Compute the average using plain Python"
   ]
  },
  {
   "cell_type": "markdown",
   "metadata": {},
   "source": [
    "### 2) Average over two different subsets of the data.\n",
    "\n",
    "Find the averages (means) of the 'Highway mpg' column for just the cars with manual transmissions and just the cars with automatic transmissions.  The transmission type is found in the 'Classification' column.  Do this again in two ways:\n",
    "\n",
    "1. Use Pandas to compute and display both averages (of the two groups) in one line of code.  (Try to get just the 'Highway mpg' averages displayed with one line of code, but if you compute and show other averages as well, that's fine.)\n",
    "2. Use `.query()` to select just the rows of the dataset for cars with automatic transmissions, use `.tolist()` to get a plain Python list representation of the 'Highway mpg' column in those selected rows, and write plain Python code (using no other Pandas functions) to compute and display the average of the values in that list.  Repeat for the manual transmission cars.\n",
    "\n",
    "Do each of those in one of the two following code cells."
   ]
  },
  {
   "cell_type": "code",
   "execution_count": null,
   "metadata": {},
   "outputs": [],
   "source": [
    "# Compute the averages using Pandas"
   ]
  },
  {
   "cell_type": "code",
   "execution_count": null,
   "metadata": {},
   "outputs": [],
   "source": [
    "# Compute the averages using plain Python"
   ]
  },
  {
   "cell_type": "markdown",
   "metadata": {},
   "source": [
    "***\n",
    "## Part 6: Coding Practice (15%)\n",
    "\n",
    "I'll admit it: this part isn't super realistic.  But it's important to practice coding a bit, and much of the Pandas work we've done hasn't touched on many of the concepts we learned earlier.\n",
    "\n",
    "The goal here is to create a function that will find, from any given dataframe, a list of cars whose individual horsepower values add up to a given target value or above.  The cars should be sorted in increasing order of horsepower before finding the list, so it will be a list of the cars with the *smallest* horsepower values that add up to the target or above.\n",
    "\n",
    "Basic approach:\n",
    "\n",
    "1. Define a function named `horsepower_target_sum()` with two parameters, a dataframe and a target value.\n",
    "2. Make a copy of the dataframe with values sorted by the 'Horsepower' column.\n",
    "3. With increasingly-larger sizes, starting from 1, sum the horsepower values of the first `k` cars in the sorted dataframe (where `k` is the current size you're testing).\n",
    "4. Repeat until you find a size `k` for which the first `k` cars add up to the target or above.\n",
    "5. Return the 'ID' values for those cars (this will be the cars' names) **as a list** (not a Pandas series, but a normal Python list of strings).\n",
    "\n",
    "Remember: it's often much easier to write a bit of code that solves *part* of the problem, test that, and move on to another small piece than to try to write everything at once and just see if it works (it probably won't)."
   ]
  },
  {
   "cell_type": "code",
   "execution_count": null,
   "metadata": {},
   "outputs": [],
   "source": [
    "# Define and test your horsepower_target_sum() function."
   ]
  },
  {
   "cell_type": "markdown",
   "metadata": {},
   "source": [
    "For example,\n",
    "\n",
    "`horsepower_target_sum(df, 1000)` should return:\n",
    "```\n",
    "['2012 Mazda Mazda2 Touring',\n",
    " '2012 Mazda Mazda2 Sport AT',\n",
    " '2012 Mazda Mazda2 Touring AT',\n",
    " '2012 Mazda Mazda2 Sport',\n",
    " '2011 Mazda Mazda2 Sport AT',\n",
    " '2011 Mazda Mazda2 Touring',\n",
    " '2011 Mazda Mazda2 Touring AT',\n",
    " '2011 Mazda Mazda2 Sport',\n",
    " '2010 Toyota Yaris 5-Door Liftback AT',\n",
    " '2010 Toyota Yaris 5-Door Liftback']\n",
    "```\n",
    "And if run on a different dataframe, like one made by selecting all cars from before 2010,\n",
    "\n",
    "`horsepower_target_sum(df.query(\"Year < 2010\"), 1000)` should return:\n",
    "```\n",
    "['2009 Nissan Cube 1.8',\n",
    " '2009 Nissan Cube 1.8 S',\n",
    " '2009 Hyundai Elantra Touring',\n",
    " '2009 Hyundai Elantra Touring AT',\n",
    " '2009 Lotus Elise',\n",
    " '2009 Audi A3 2.0 T AT',\n",
    " '2009 Audi A3 2.0 T']\n",
    "```"
   ]
  }
 ],
 "metadata": {
  "kernelspec": {
   "display_name": "Python 3",
   "language": "python",
   "name": "python3"
  },
  "language_info": {
   "codemirror_mode": {
    "name": "ipython",
    "version": 3
   },
   "file_extension": ".py",
   "mimetype": "text/x-python",
   "name": "python",
   "nbconvert_exporter": "python",
   "pygments_lexer": "ipython3",
   "version": "3.6.5"
  }
 },
 "nbformat": 4,
 "nbformat_minor": 2
}
