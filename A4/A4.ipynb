{
 "cells": [
  {
   "cell_type": "markdown",
   "metadata": {},
   "source": [
    "# Assignment 4: Programming Practice"
   ]
  },
  {
   "cell_type": "markdown",
   "metadata": {},
   "source": [
    "To complete this assignment, choose **one** of the two options below.  The first option has three problems to complete.  The second option is one larger, more complex program that includes aspects of the first three.  The second option is likely to be somewhat more challenging than the first option.\n",
    "\n",
    "Data used in this assignment comes from the Chicago Data Portal: [Chicago Energy Benchmarking](https://data.cityofchicago.org/Environment-Sustainable-Development/Chicago-Energy-Benchmarking/xq83-jr8c).  The data has been cleaned slightly, removing a few non-standard characters from three different lines that would cause troubles with reading the file in Python.\n",
    "\n",
    "There are no new programming concepts in this assignment.  Its primary goal is to practice the programming syntax, skills, and concepts we've learned up to this point.\n",
    "\n",
    "We also want you to practice figuring out how to write a program from scratch, so we are providing fewer details beyond the overall goal of each problem here.  You should take each problem's goal and break it down as much as you can into small tasks, then think about how to accomplish each of those tasks.  You'll need to think about the range of tools we have covered to figure out which might be most applicable to each small task.  If you ever get stuck, though, please get in touch with an instructor or TA, and we'll be happy to help you move forward."
   ]
  },
  {
   "cell_type": "markdown",
   "metadata": {},
   "source": [
    "[The percentages listed after each problem indicate how much each one will contribute to the \"correctness\" portion of the grade for this assignment.  The other grading criteria from the rubric will be applied across all your code.]"
   ]
  },
  {
   "cell_type": "markdown",
   "metadata": {},
   "source": [
    "### Saving Drafts and Submitting"
   ]
  },
  {
   "cell_type": "markdown",
   "metadata": {},
   "source": [
    "Before you do anything else, execute the cell below. This will prompt you to log in and then save your work via an online submission system.\n",
    "\n",
    "You can re-run the cell and to submit your work as many times as you want before the deadline. We will only grade your final submission.\n",
    "\n",
    "Any time you want to submit your work, select \"Save Notebook\" in the File menu (or press the Save icon, or press <kbd>Ctrl+S</kbd>) and then execute the cell again.  The result will contain a link that you can use to check that your assignment has been submitted successfully.\n",
    "\n",
    "*[Executing this may print some errors saying \"Javascript Error: IPython is not defined\"; those may safely be ignored.]*"
   ]
  },
  {
   "cell_type": "code",
   "execution_count": null,
   "metadata": {
    "editable": false
   },
   "outputs": [],
   "source": [
    "# This cell is just for submitting your work.\n",
    "# Each time you execute it, a copy of this notebook will be uploaded to the submission system.\n",
    "from client.api.notebook import Notebook\n",
    "ok = Notebook('A4.ok')\n",
    "import os\n",
    "if not os.path.exists(os.path.join(os.environ.get(\"HOME\"), \".config/ok/auth_refresh\")):\n",
    "    ok.auth(force=True)\n",
    "else:\n",
    "    ok.auth(inline=True)\n",
    "_ = ok.submit()"
   ]
  },
  {
   "cell_type": "markdown",
   "metadata": {},
   "source": [
    "### Authorship and Resources Used\n",
    "* Include your name here\n",
    "* If you received any assistance from anyone else, state who you consulted and specifically how they helped\n",
    "* If you used any other resources, state what they were and specifically how they helped, include links to the resources. [Markdown links use this formatting.](https://github.com/adam-p/markdown-here/wiki/Markdown-Cheatsheet#links)"
   ]
  },
  {
   "cell_type": "markdown",
   "metadata": {},
   "source": [
    "***"
   ]
  },
  {
   "cell_type": "markdown",
   "metadata": {},
   "source": [
    "## Problem 1 (15%)"
   ]
  },
  {
   "cell_type": "markdown",
   "metadata": {},
   "source": [
    "The first thing you should always do when investigating some new data is to make sure you know what data you have.  For example, we could look at the column headers for our data.\n",
    "\n",
    "Write code that prints out the column headers for the file `Chicago_Energy_Benchmarking.csv`, one per line.  The column headers are all found in the first line of the file, and each is separated from the others by a `,` character."
   ]
  },
  {
   "cell_type": "code",
   "execution_count": null,
   "metadata": {},
   "outputs": [],
   "source": [
    "# Write and test your code here"
   ]
  },
  {
   "cell_type": "markdown",
   "metadata": {},
   "source": [
    "With each column header printing on its own line, the first four lines of output should be:\n",
    "```\n",
    "Data Year\n",
    "ID\n",
    "Property Name\n",
    "Address\n",
    "[...]\n",
    "```"
   ]
  },
  {
   "cell_type": "markdown",
   "metadata": {},
   "source": [
    "***"
   ]
  },
  {
   "cell_type": "markdown",
   "metadata": {},
   "source": [
    "## Problem 2 (25%)"
   ]
  },
  {
   "cell_type": "markdown",
   "metadata": {},
   "source": [
    "In an earlier in-class exercise, we defined a function to extract a certain column's value from a single line of a file.  We can make that slightly more general by adding a parameter to the function that allows us to specify *which* column we want to extract.  This function is more useful, because it can be reused to extract a numeric value from any column, not just one particular column.\n",
    "\n",
    "Define a function named `get_number()` that extracts a number from a given line in a specific column with the following specification:\n",
    " * It has **two** parameters\n",
    "   * The first parameter is a string containing one line from a CSV file (i.e., a string with column entries separated by `,` characters)\n",
    "   * The second parameter is an integer specifying which column from that line you want to get.\n",
    " * If the given line does not contain enough entries to have a value in the specified column, the function should return `None`.\n",
    " * If the value in the specified column is not numeric, the function should return `None`.  You can use the string method [`.isnumeric()`](https://docs.python.org/3/library/stdtypes.html#str.isnumeric) to determine if a string contains a numeric value or not.\n",
    " * Otherwise, the function should return the number in the specified column as a **float**."
   ]
  },
  {
   "cell_type": "code",
   "execution_count": null,
   "metadata": {},
   "outputs": [],
   "source": [
    "# Define the get_number() function here."
   ]
  },
  {
   "cell_type": "markdown",
   "metadata": {},
   "source": [
    "### Tests\n",
    "Executing the cell below will run some tests on the `get_number()` function you define above.  It passes a variety of lists and column numbers to the function.  The expected return values for the first three are shown here, and you should think about what the others should be to verify that your function is passing all of the tests.\n",
    "\n",
    "First three expected test outputs:\n",
    "```\n",
    "line: '1,2,3,A,B,C'  index: 1   return value: 2.0\n",
    "line: '1,2,3,A,B,C'  index: 3   return value: None\n",
    "line: '123,ABC'  index: 3   return value: None\n",
    "```"
   ]
  },
  {
   "cell_type": "code",
   "execution_count": null,
   "metadata": {
    "editable": false
   },
   "outputs": [],
   "source": [
    "# Tests for get_number() [do not modify]\n",
    "\n",
    "test_line_1 = \"1,2,3,A,B,C\"\n",
    "test_line_2 = \"123,ABC\"\n",
    "test_line_3 = \"\"\n",
    "\n",
    "ret = get_number(test_line_1, 1)\n",
    "print(\"line: {}  index: {}   return value: {}\".format(repr(test_line_1), 1, ret))\n",
    "\n",
    "ret = get_number(test_line_1, 3)\n",
    "print(\"line: {}  index: {}   return value: {}\".format(repr(test_line_1), 3, ret))\n",
    "\n",
    "ret = get_number(test_line_2, 3)\n",
    "print(\"line: {}  index: {}   return value: {}\".format(repr(test_line_2), 3, ret))\n",
    "\n",
    "ret = get_number(test_line_2, 0)\n",
    "print(\"line: {}  index: {}   return value: {}\".format(repr(test_line_2), 0, ret))\n",
    "\n",
    "ret = get_number(test_line_2, 1)\n",
    "print(\"line: {}  index: {}   return value: {}\".format(repr(test_line_2), 1, ret))\n",
    "\n",
    "ret = get_number(test_line_3, 0)\n",
    "print(\"line: {}  index: {}   return value: {}\".format(repr(test_line_3), 0, ret))\n",
    "\n",
    "ret = get_number(test_line_3, 1)\n",
    "print(\"line: {}  index: {}   return value: {}\".format(repr(test_line_3), 1, ret))"
   ]
  },
  {
   "cell_type": "markdown",
   "metadata": {},
   "source": [
    "***"
   ]
  },
  {
   "cell_type": "markdown",
   "metadata": {},
   "source": [
    "## Problem 3 (25%)"
   ]
  },
  {
   "cell_type": "markdown",
   "metadata": {},
   "source": [
    "If our data is messy, which it often is, then when we are collecting values from a given column into a list, some values will be `None`.  If we want to do any numerical analysis of this data, then we may want to filter out the `None` values.  This is not always wise, because that filtering may distort the results of the analysis in ways we don't anticipate, but it is useful to have the option.\n",
    "\n",
    "Define a function named `remove_None()` that filters a list to remove `None` values, returning the filtered list:\n",
    " * It has **one** parameter: a list of values, some of which may be the `None` value.\n",
    " * The function should **return** a new list, containing all of the values from the provided list that are not `None`."
   ]
  },
  {
   "cell_type": "code",
   "execution_count": null,
   "metadata": {},
   "outputs": [],
   "source": [
    "# Define the remove_None() function here."
   ]
  },
  {
   "cell_type": "markdown",
   "metadata": {},
   "source": [
    "### Tests\n",
    "Executing the cell below will run some tests on the `remove_None()` function you define above.  It passes a variety of lists to the function.  The expected return values for the first two are shown here, and you should think about what the others should be to verify that your function is passing all of the tests.\n",
    "\n",
    "First two expected test outputs:\n",
    "```\n",
    "list: [1, 2, None, 3]\n",
    "return value: [1, 2, 3]\n",
    "\n",
    "list: ['This', 'list', 'has', 'no', 'None', 'values.']\n",
    "return value: ['This', 'list', 'has', 'no', 'None', 'values.']\n",
    "```"
   ]
  },
  {
   "cell_type": "code",
   "execution_count": null,
   "metadata": {
    "editable": false
   },
   "outputs": [],
   "source": [
    "# Tests for remove_None() [do not modify]\n",
    "\n",
    "test_list_1 = [1, 2, None, 3]\n",
    "test_list_2 = [\"This\", \"list\", \"has\", \"no\", \"None\", \"values.\"]\n",
    "test_list_3 = [None, 1, None, 2, None, 3, 4, None]\n",
    "test_list_4 = [None, None, None]\n",
    "test_list_5 = []\n",
    "test_list_6 = [1, 2, 3]\n",
    "\n",
    "for test_list in [test_list_1, test_list_2, test_list_3, test_list_4, test_list_5, test_list_6]:\n",
    "    ret = remove_None(test_list)\n",
    "    print(\"list: {}\\nreturn value: {}\\n\".format(repr(test_list), ret))"
   ]
  },
  {
   "cell_type": "markdown",
   "metadata": {},
   "source": [
    "***"
   ]
  },
  {
   "cell_type": "markdown",
   "metadata": {},
   "source": [
    "## Problem 4 (25%)"
   ]
  },
  {
   "cell_type": "markdown",
   "metadata": {},
   "source": [
    "One analysis we might want to do is to compute an average of a set of numbers but with some \"outliers\" removed.  A simple version of this analysis might remove the smallest 3 values and the largest 3 values, then compute an average of those that remain.  We can generalize this to remove the smallest and largest $k$ values, where $k$ is some positive integer.\n",
    "\n",
    "Define a function named `calc_average_excluding_extremes()` that removes a specified number of \"outliers\" and returns an average of the remaining values:\n",
    " * It has **two** parameters:\n",
    "   * The first is a list of numeric values.\n",
    "   * The second is an integer $k$.\n",
    " * The function should **return** the average of the values that remain after removing or ignoring the smallest and largest $k$ values from the given list."
   ]
  },
  {
   "cell_type": "code",
   "execution_count": null,
   "metadata": {},
   "outputs": [],
   "source": [
    "# Define the calc_average_excluding_extremes() function here."
   ]
  },
  {
   "cell_type": "markdown",
   "metadata": {},
   "source": [
    "### Tests\n",
    "Executing the cell below will run some tests on the `calc_average_excluding_extremes()` function you define above.  It passes a variety of lists and $k$ values to the function.  The expected return values for the first two are shown here, and you should think about what the others should be to verify that your function is passing all of the tests.\n",
    "\n",
    "First two expected test outputs:\n",
    "```\n",
    "list: [1, 2, 3]  k: 1   return value: 2.0\n",
    "list: [1, 2, 3, 4, 5, 6]  k: 2   return value: 3.5\n",
    "```"
   ]
  },
  {
   "cell_type": "code",
   "execution_count": null,
   "metadata": {
    "editable": false
   },
   "outputs": [],
   "source": [
    "# Tests for calc_average_excluding_extremes() [do not modify]\n",
    "\n",
    "test_list_1 = [1, 2, 3]\n",
    "test_list_2 = [1, 2, 3, 4, 5, 6]\n",
    "test_list_3 = [1, 1, 1, 9, 9, 9, 2]\n",
    "test_list_4 = [5, 4, 3, 2, 1]\n",
    "\n",
    "ret = calc_average_excluding_extremes(test_list_1[:], 1)\n",
    "print(\"list: {}  k: {}   return value: {}\".format(repr(test_list_1), 1, ret))\n",
    "\n",
    "ret = calc_average_excluding_extremes(test_list_2[:], 2)\n",
    "print(\"list: {}  k: {}   return value: {}\".format(repr(test_list_2), 2, ret))\n",
    "\n",
    "ret = calc_average_excluding_extremes(test_list_3[:], 3)\n",
    "print(\"list: {}  k: {}   return value: {}\".format(repr(test_list_3), 3, ret))\n",
    "\n",
    "ret = calc_average_excluding_extremes(test_list_4[:], 1)\n",
    "print(\"list: {}  k: {}   return value: {}\".format(repr(test_list_4), 1, ret))\n",
    "\n",
    "ret = calc_average_excluding_extremes(test_list_4[:], 2)\n",
    "print(\"list: {}  k: {}   return value: {}\".format(repr(test_list_4), 2, ret))\n"
   ]
  },
  {
   "cell_type": "markdown",
   "metadata": {},
   "source": [
    "***"
   ]
  },
  {
   "cell_type": "markdown",
   "metadata": {},
   "source": [
    "## Problem 5 (10%)"
   ]
  },
  {
   "cell_type": "markdown",
   "metadata": {},
   "source": [
    "Finally, to tie it all together, we can write a program that:\n",
    "1. Lets the user choose a column index and a number of extreme values to exclude.\n",
    "2. Reads data from our data file (`Chicago_Energy_Benchmarking.csv`), storing the chosen column in a list.\n",
    "3. Removes `None` values from that list.\n",
    "4. Calculates an average of the numeric (non-`None`) values with the specified number of extreme values removed.\n",
    "\n",
    "Use all three of the functions you have defined above.  (If one of the functions above doesn't work correctly, then you can at least write the code here that uses them to receive credit here.)\n",
    "\n",
    "For example, the output if the user selects column 11 and 5 extreme values would be:\n",
    "```\n",
    "Which column would you like to average (enter an index)? 11\n",
    "How many values would you like to exclude at the minimum and maximum extremes? 5\n",
    "\n",
    "Reading data from Chicago_Energy_Benchmarking.csv...\n",
    "\n",
    "Column 11 has 4482 total entries, of which 2105 are numeric.\n",
    "The average value after excluding 5 values on each extreme is 18818770.561813843.\n",
    "```\n",
    "\n",
    "To save you some time, the code for reading the specified column could look like this (assuming you have stored the user's selected column index in the variable `column`):\n",
    "\n",
    "```python\n",
    "values = []\n",
    "with open(\"Chicago_Energy_Benchmarking.csv\") as file:\n",
    "    for line in file:\n",
    "        value = get_number(line, column)\n",
    "        values.append(value)\n",
    "```"
   ]
  },
  {
   "cell_type": "code",
   "execution_count": null,
   "metadata": {},
   "outputs": [],
   "source": [
    "# Write and test your program here."
   ]
  }
 ],
 "metadata": {
  "kernelspec": {
   "display_name": "Python 3",
   "language": "python",
   "name": "python3"
  },
  "language_info": {
   "codemirror_mode": {
    "name": "ipython",
    "version": 3
   },
   "file_extension": ".py",
   "mimetype": "text/x-python",
   "name": "python",
   "nbconvert_exporter": "python",
   "pygments_lexer": "ipython3",
   "version": "3.6.5"
  }
 },
 "nbformat": 4,
 "nbformat_minor": 2
}
