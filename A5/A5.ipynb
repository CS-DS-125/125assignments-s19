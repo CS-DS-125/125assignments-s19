{
 "cells": [
  {
   "cell_type": "markdown",
   "metadata": {},
   "source": [
    "# Assignment 5: Data Visualization"
   ]
  },
  {
   "cell_type": "markdown",
   "metadata": {},
   "source": [
    "This assignment practices data visualization and creating charts in Python using Pandas and Matplotlib.  All of the problems use data from the `state_crime.csv` file sourced from the [CORGIS project](https://think.cs.vt.edu/corgis/csv/index.html).  The [CORGIS page for the State Crime data](https://think.cs.vt.edu/corgis/csv/state_crime/state_crime.html) includes an explanation of where the data came from and, **important for this assignment**, descriptions of each column in the data set."
   ]
  },
  {
   "cell_type": "markdown",
   "metadata": {},
   "source": [
    "[The percentages listed after each problem indicate how much each one will contribute to the \"correctness\" portion of the grade for this assignment.  The other grading criteria from the rubric will be applied across all your code.]"
   ]
  },
  {
   "cell_type": "markdown",
   "metadata": {},
   "source": [
    "### Saving Drafts and Submitting"
   ]
  },
  {
   "cell_type": "markdown",
   "metadata": {},
   "source": [
    "Before you do anything else, execute the cell below. This will prompt you to log in and then save your work via an online submission system.\n",
    "\n",
    "You can re-run the cell and to submit your work as many times as you want before the deadline. We will only grade your final submission.\n",
    "\n",
    "Any time you want to submit your work, select \"Save Notebook\" in the File menu (or press the Save icon, or press <kbd>Ctrl+S</kbd>) and then execute the cell again.  The result will contain a link that you can use to check that your assignment has been submitted successfully.\n",
    "\n",
    "*[Executing this may print some errors saying \"Javascript Error: IPython is not defined\"; those may safely be ignored.]*"
   ]
  },
  {
   "cell_type": "code",
   "execution_count": null,
   "metadata": {
    "editable": false
   },
   "outputs": [],
   "source": [
    "# This cell is just for submitting your work.\n",
    "# Each time you execute it, a copy of this notebook will be uploaded to the submission system.\n",
    "from client.api.notebook import Notebook\n",
    "ok = Notebook('A5.ok')\n",
    "import os\n",
    "if not os.path.exists(os.path.join(os.environ.get(\"HOME\"), \".config/ok/auth_refresh\")):\n",
    "    ok.auth(force=True)\n",
    "else:\n",
    "    ok.auth(inline=True)\n",
    "_ = ok.submit()"
   ]
  },
  {
   "cell_type": "markdown",
   "metadata": {},
   "source": [
    "### Authorship and Resources Used\n",
    "* Include your name here\n",
    "* If you received any assistance from anyone else, state who you consulted and specifically how they helped\n",
    "* If you used any other resources, state what they were and specifically how they helped, include links to the resources. [Markdown links use this formatting.](https://github.com/adam-p/markdown-here/wiki/Markdown-Cheatsheet#links)"
   ]
  },
  {
   "cell_type": "markdown",
   "metadata": {},
   "source": [
    "***"
   ]
  },
  {
   "cell_type": "markdown",
   "metadata": {},
   "source": [
    "## Imports and Initial Setup (5%)\n",
    "\n",
    "Before writing code for the problems below, we need to set things up for the rest of the notebook.\n",
    "\n",
    "First, import Matplotlib and Pandas:"
   ]
  },
  {
   "cell_type": "code",
   "execution_count": null,
   "metadata": {},
   "outputs": [],
   "source": [
    "# Write any imports needed here."
   ]
  },
  {
   "cell_type": "markdown",
   "metadata": {},
   "source": [
    "The code below is provided to make the charts slightly larger and higher-resolution.  You can run it as-is without modifying it."
   ]
  },
  {
   "cell_type": "code",
   "execution_count": null,
   "metadata": {},
   "outputs": [],
   "source": [
    "# For slightly nicer charts\n",
    "plt.rcParams['figure.figsize'] = [10, 5]\n",
    "plt.rcParams['figure.dpi'] = 150"
   ]
  },
  {
   "cell_type": "markdown",
   "metadata": {},
   "source": [
    "#### Loading Data\n",
    "\n",
    "Because we will be using the same dataset throughout the rest of the notebook, it is best to load the data **once** here.\n",
    "\n",
    "Create a new dataframe object containing the data from `state_crime.csv`.  Name it `df`.  **Do not** assign anything else to `df` for the rest of the notebook.  We want this to be our source of data for all of the problems, and if one code cell changes `df`, it will affect how all of the others work."
   ]
  },
  {
   "cell_type": "code",
   "execution_count": null,
   "metadata": {},
   "outputs": [],
   "source": [
    "# Write your code to define the df variable here."
   ]
  },
  {
   "cell_type": "markdown",
   "metadata": {},
   "source": [
    "The line of code below will show you the first ten rows of the dataframe.  Use this to make sure you have loaded the data into `df` correctly.  What you see should match the rows in `state_crime.csv`, which you can open by double-clicking on it in the file browser on the left.  You should not modify this code."
   ]
  },
  {
   "cell_type": "code",
   "execution_count": null,
   "metadata": {},
   "outputs": [],
   "source": [
    "# (Do not modify) Test whether df is created correctly by viewing first ten rows of the dataframe:\n",
    "df.head(10)"
   ]
  },
  {
   "cell_type": "markdown",
   "metadata": {},
   "source": [
    "***\n",
    "## Problem 1 (15%)"
   ]
  },
  {
   "cell_type": "markdown",
   "metadata": {},
   "source": [
    "Is there a correlation between property crime and violent crime?  If one was higher in a given state and year, was the other generally higher as well?  Does one have lower rates if the other is higher?  Or is there no connection between the two?\n",
    "\n",
    "Create a single visualization that allows you to answer these questions.\n",
    "\n",
    "1. Compare the `Rates.Property.All` and `Rates.Violent.All` variables.\n",
    "2. Consider whether you should change some parameters of the chart to make a more useful visualization (we've looked at some arguments that change how scatterplots and histograms are drawn, for example).\n",
    "3. Properly label the x- and the y-axis -- look up the definitions of the columns to know exactly what units each variable uses, and make sure the axis labels communicate that.\n",
    "4. Properly title your graph.\n",
    "5. In a Markdown cell below your chart, explain what the chart tells us and what answers it provides to the questions above."
   ]
  },
  {
   "cell_type": "code",
   "execution_count": null,
   "metadata": {},
   "outputs": [],
   "source": [
    "# Write and test your code here."
   ]
  },
  {
   "cell_type": "markdown",
   "metadata": {},
   "source": [
    "[**TO DO:** Write your explanation here.]"
   ]
  },
  {
   "cell_type": "markdown",
   "metadata": {},
   "source": [
    "***"
   ]
  },
  {
   "cell_type": "markdown",
   "metadata": {},
   "source": [
    "## Problem 2 (20%)"
   ]
  },
  {
   "cell_type": "markdown",
   "metadata": {},
   "source": [
    "How common are burglaries?  What are the most frequent annual rates of burglaries in the data set?  What have the highest and lowest rates been?  In that range, are there more burglary rates in the top half of the range or the lower half of the range?\n",
    "\n",
    "Create a single visualization that allows you to answer these questions.\n",
    "\n",
    "1. Use the `Rates.Property.Burglary` column.\n",
    "2. Consider whether you should change some parameters of the chart to make a more useful visualization (we've looked at some arguments that change how scatterplots and histograms are drawn, for example).\n",
    "3. Properly label the x- and the y-axis -- look up the definitions of the columns to know exactly what units each variable uses, and make sure the axis labels communicate that.\n",
    "4. Properly title your graph.\n",
    "5. In a Markdown cell below your chart, explain what the chart tells us and what answers it provides to the questions above."
   ]
  },
  {
   "cell_type": "code",
   "execution_count": null,
   "metadata": {},
   "outputs": [],
   "source": [
    "# Write and test your code here."
   ]
  },
  {
   "cell_type": "markdown",
   "metadata": {},
   "source": [
    "[**TO DO:** Write your explanation here.]"
   ]
  },
  {
   "cell_type": "markdown",
   "metadata": {},
   "source": [
    "How do larceny rates compare to burglary rates?\n",
    "\n",
    "Create the same visualization as above, but looking at the `Rates.Property.Larceny` column instead (labels and titles should change as well).\n",
    "\n",
    "In the markdown cell below your chart, describe how larceny rates compare to burglary rates."
   ]
  },
  {
   "cell_type": "code",
   "execution_count": null,
   "metadata": {},
   "outputs": [],
   "source": [
    "# Write and test your code here."
   ]
  },
  {
   "cell_type": "markdown",
   "metadata": {},
   "source": [
    "[**TO DO:** Write your explanation here.]"
   ]
  },
  {
   "cell_type": "markdown",
   "metadata": {},
   "source": [
    "***"
   ]
  },
  {
   "cell_type": "markdown",
   "metadata": {},
   "source": [
    "## Problem 3 (20%)"
   ]
  },
  {
   "cell_type": "markdown",
   "metadata": {},
   "source": [
    "Is there any consistency in property crime rate trends over time between different states?  When property crime has increased or decreased in one state, has it moved in a similar direction in another?\n",
    "\n",
    "Create a single visualization that allows you to answer these questions for the specific states of Hawaii, Illinois, and New York.\n",
    "\n",
    "1. Use the `Rates.Property.All` column and the `Year` column.\n",
    "2. Properly label the x- and the y-axis -- look up the definitions of the columns to know exactly what units each variable uses, and make sure the axis labels communicate that.\n",
    "3. Properly title your graph.\n",
    "4. Include a legend with accurate labels for each data series.\n",
    "5. In a Markdown cell below your chart, explain what the chart tells us and what answers it provides to the questions above."
   ]
  },
  {
   "cell_type": "code",
   "execution_count": null,
   "metadata": {},
   "outputs": [],
   "source": [
    "# Write and test your code here."
   ]
  },
  {
   "cell_type": "markdown",
   "metadata": {},
   "source": [
    "[**TO DO:** Write your explanation here.]"
   ]
  },
  {
   "cell_type": "markdown",
   "metadata": {},
   "source": [
    "***"
   ]
  },
  {
   "cell_type": "markdown",
   "metadata": {},
   "source": [
    "## Problem 4 (20%)\n",
    "Sometimes we want to directly compare one data series to several others, but we don't necessarily want them all in one chart.  For example, we might want to answer the same questions as Problem 3, but comparing Illinois to several other states, one at a time.\n",
    "\n",
    "Create a *sequence* of **eight** visualizations that answers the same questions as Problem 3, with *each* chart comparing Illinois property crime over time to *one* state from this list:\n",
    "\n",
    "- Alabama\n",
    "- Alaska\n",
    "- California\n",
    "- Colorado\n",
    "- Florida\n",
    "- Georgia\n",
    "- Hawaii\n",
    "- Idaho\n",
    "\n",
    "Do not do this by copying and pasting the same basic code 8 times.  Use a `for` loop.  The `for` loop's sequence (the values it iterates over) can be a list containing the above state names as strings.\n",
    "\n",
    "You will likely need to create a different query string for each iteration of the loop.  Remember we can use string formatting to insert a variable into a string.  For example:\n",
    "``` python\n",
    "# if the selected_type variable is a string like \"Musical\" or \"Play\":\n",
    "query_string = 'Type == \"{}\"'.format(selected_type)\n",
    "```\n",
    "Then, `query_string` is a variable that can be passed to the `.query()` method as an argument.\n",
    "\n",
    "Also, make sure that the title and legend is correct (indicates the correct states) in each individual chart.  For example, the first chart's title should be \"Comparison of Property Crime Rates Over Time in Illinois and Alabama\".\n",
    "\n",
    "Remember, your code should create **eight** separate charts."
   ]
  },
  {
   "cell_type": "code",
   "execution_count": null,
   "metadata": {},
   "outputs": [],
   "source": [
    "# Write and test your code here."
   ]
  },
  {
   "cell_type": "markdown",
   "metadata": {},
   "source": [
    "***"
   ]
  },
  {
   "cell_type": "markdown",
   "metadata": {},
   "source": [
    "## Problem 5 (20%)\n",
    "\n",
    "Each state's crime rates vary over time, but every type of crime for every state will have a \"high point,\" a maximum value across all of the years of data.  For each state, we can find the maximum value a particular crime rate hits as one way of \"summarizing\" the data for that state.  (We could also calculate the minimum value, the average value, the median, etc., but here we'll just look at the maximum.)\n",
    "\n",
    "Generate a **bar chart** comparing the maximum total violent crime rate for every state in the dataset.\n",
    "1. Group the data by the `State` column.\n",
    "2. Find the **maximum** value for each column within each group.\n",
    "3. Chart values in the `Rates.Violent.All` column (after finding the maximum values).\n",
    "4. Properly label the x- and the y-axis -- look up the definitions of the columns to know exactly what units each variable uses, and make sure the axis labels communicate that.\n",
    "5. Properly title your graph."
   ]
  },
  {
   "cell_type": "code",
   "execution_count": null,
   "metadata": {},
   "outputs": [],
   "source": [
    "# Write and test your code here."
   ]
  },
  {
   "cell_type": "markdown",
   "metadata": {},
   "source": [
    "If everything worked, the chart you produced will probably be unintelligible.  51 labels across the x-axis (because D.C. is included as well) just doesn't work here.\n",
    "\n",
    "There are a few ways to improve this.  One way is to make a **horizontal** bar chart.\n",
    "\n",
    "Make a horizontal bar chart of the same information.  To provide enough space for the labels, increase the height of the chart a bit by including the following line **before** any calls to any other `plt.` methods:\n",
    "```python\n",
    "plt.figure(figsize=(10,10))\n",
    "```"
   ]
  },
  {
   "cell_type": "code",
   "execution_count": null,
   "metadata": {},
   "outputs": [],
   "source": [
    "# Write and test your code here."
   ]
  },
  {
   "cell_type": "markdown",
   "metadata": {},
   "source": [
    "That should be much more readable than the first bar chart.\n",
    "\n",
    "There should be one large outlier in this data, with a maximum violent crime rate well above any of the others.  In the Markdown cell below, interpret this data point and describe exactly what that bar communicates."
   ]
  },
  {
   "cell_type": "markdown",
   "metadata": {},
   "source": [
    "[**TO DO**: Interepret the outlier data point here.]"
   ]
  }
 ],
 "metadata": {
  "kernelspec": {
   "display_name": "Python 3",
   "language": "python",
   "name": "python3"
  },
  "language_info": {
   "codemirror_mode": {
    "name": "ipython",
    "version": 3
   },
   "file_extension": ".py",
   "mimetype": "text/x-python",
   "name": "python",
   "nbconvert_exporter": "python",
   "pygments_lexer": "ipython3",
   "version": "3.6.5"
  }
 },
 "nbformat": 4,
 "nbformat_minor": 2
}
