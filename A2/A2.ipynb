{
 "cells": [
  {
   "cell_type": "markdown",
   "metadata": {},
   "source": [
    "# Assignment 2: Control Structures"
   ]
  },
  {
   "cell_type": "markdown",
   "metadata": {},
   "source": [
    "To complete this assignment, choose **one** of the two options below.  The first option has three problems to complete.  The second option is one larger, more complex program that includes aspects of the first three.  The second option is likely to be somewhat more challenging than the first option.\n",
    "\n",
    "For all problems, write and test the code in this notebook."
   ]
  },
  {
   "cell_type": "markdown",
   "metadata": {},
   "source": [
    "### Saving Drafts and Submitting"
   ]
  },
  {
   "cell_type": "markdown",
   "metadata": {},
   "source": [
    "Before you do anything else, execute the cell below. This will prompt you to log in and then save your work via an online submission system.\n",
    "\n",
    "You can re-run the cell and to submit your work as many times as you want before the deadline. We will only grade your final submission.\n",
    "\n",
    "Any time you want to submit your work, select \"Save Notebook\" in the File menu (or press the Save icon, or press <kbd>Ctrl+S</kbd>) and then execute the cell again.  The result will contain a link that you can use to check that your assignment has been submitted successfully.\n",
    "\n",
    "*[Executing this may print some errors saying \"Javascript Error: IPython is not defined\"; those may safely be ignored.]*"
   ]
  },
  {
   "cell_type": "code",
   "execution_count": null,
   "metadata": {
    "editable": false
   },
   "outputs": [],
   "source": [
    "# This cell is just for submitting your work.\n",
    "# Each time you execute it, a copy of this notebook will be uploaded to the submission system.\n",
    "from client.api.notebook import Notebook\n",
    "ok = Notebook('A2.ok')\n",
    "import os\n",
    "if not os.path.exists(os.path.join(os.environ.get(\"HOME\"), \".config/ok/auth_refresh\")):\n",
    "    ok.auth(force=True)\n",
    "else:\n",
    "    ok.auth(inline=True)\n",
    "_ = ok.submit()"
   ]
  },
  {
   "cell_type": "markdown",
   "metadata": {},
   "source": [
    "### Authorship and Resources Used\n",
    "* Include your name here\n",
    "* If you received any assistance from anyone else, state who you consulted and specifically how they helped\n",
    "* If you used any other resources, state what they were and specifically how they helped, include links to the resources. [Markdown links use this formatting.](https://github.com/adam-p/markdown-here/wiki/Markdown-Cheatsheet#links)"
   ]
  },
  {
   "cell_type": "markdown",
   "metadata": {},
   "source": [
    "***\n",
    "## Option 1\n",
    "\n",
    "Complete the following 3 problems."
   ]
  },
  {
   "cell_type": "markdown",
   "metadata": {},
   "source": [
    "***\n",
    "### Problem 1)\n",
    "\n",
    "Data is often messy, and so we may need to first *correct* values by transforming them somehow before we can use them.  For example, we might get a dataset that contains recorded durations of events (like recessions in an economy, perhaps, or behaviors of subjects in a psychology experiment), but some of the durations were calculated backwards, and are thus negative.  Imagine we have such a dataset, and we want to compute the sum of the *corrected* values.\n",
    "\n",
    "The cell below creates a list with some \"backwards\" values -- negative values that are supposed to be positive."
   ]
  },
  {
   "cell_type": "code",
   "execution_count": null,
   "metadata": {},
   "outputs": [],
   "source": [
    "raw_durations = [23.62, 16.3, 20.65, 10.31, 26.22, 29.77, -13.31, 17.17, 25.27,\n",
    "                 -11.97, -28.68, 17.75, -18.31, -19.94, 25.07]"
   ]
  },
  {
   "cell_type": "markdown",
   "metadata": {},
   "source": [
    "Python contains a built-in function named `abs()` that will return the [absolute value](https://www.mathsisfun.com/numbers/absolute-value.html) of a number.  So, for example, `abs(10)` will evaluate to `10`, and `abs(-123.45)` will evaluate to `123.45`.\n",
    "\n",
    "Using the `abs()` function and a `for` loop, write a program in the cell below that computes a sum of the *corrected* version of each of the values in `raw_durations`.  Make the program print out the sum it computes.  (For the data given above, the sum should be `304.34`.)\n",
    "\n",
    "**Important:** In *any* question like this, where some example values are provided, your code should work no matter what those values are.  That is, the code should use the `raw_durations` variable directly, and it should work correctly no matter what values `raw_durations` contains or how many there are.  You should always test your code by changing the input (in this case, the values in `raw_durations`) and making sure it always produces the correct result no matter what the input is."
   ]
  },
  {
   "cell_type": "code",
   "execution_count": null,
   "metadata": {},
   "outputs": [],
   "source": [
    "# Write and test your code in this cell."
   ]
  },
  {
   "cell_type": "markdown",
   "metadata": {},
   "source": [
    "***\n",
    "### Problem 2)\n",
    "\n",
    "Another issue that can make a dataset less than ideal is *missing data*.  Very often, some pieces of data were not collected or recorded correctly, or they just never existed in the first place.  We still need to be able to perform analyses even with some data missing.\n",
    "\n",
    "For this problem, write a program that computes the average of a list of numbers in which missing data are indicated by giving them all the value `-9999`.  The cell below creates a list with some missing values indicated in that way."
   ]
  },
  {
   "cell_type": "code",
   "execution_count": null,
   "metadata": {},
   "outputs": [],
   "source": [
    "not_all_there = [20, -72, 73, -73, -5, 44, 91, 86, -100, -75, -9999, -100, -9999, 22, 35,\n",
    "                 -62, -9, -1, -9999, -13, 12, 37, 55, 78, 10, 90, 44, 23, -22, -53]"
   ]
  },
  {
   "cell_type": "markdown",
   "metadata": {},
   "source": [
    "First, using a `for` loop, compute the average of all of the values in the list `not_all_there`, including those with the special -9999 value.  (For the values given above, the average should be `-995.4`.)\n",
    "\n",
    "As with Problem 1 above, this code should also work no matter what the values are in `not_all_there`."
   ]
  },
  {
   "cell_type": "code",
   "execution_count": null,
   "metadata": {},
   "outputs": [],
   "source": [
    "# Write and test your code in this cell."
   ]
  },
  {
   "cell_type": "markdown",
   "metadata": {},
   "source": [
    "Now, using a `for` loop, compute the average of only the values in the list `not_all_there` that are **not** missing (not equal to `-9999`).  Print out the computed average.  (For the values given above, the average should be `5.0`.)"
   ]
  },
  {
   "cell_type": "code",
   "execution_count": null,
   "metadata": {},
   "outputs": [],
   "source": [
    "# Write and test your code in this cell."
   ]
  },
  {
   "cell_type": "markdown",
   "metadata": {},
   "source": [
    "***\n",
    "### Problem 3)\n",
    "\n",
    "The data we use in data science is often collected by a computer.  A program can read values from one or more sensors to collect data automatically over time.  In this problem, you will write a program that logs (prints out) data from a simulated temperature sensor, printing warnings for temperatures that are too high or too low, based on limits set by the user.\n",
    "\n",
    "The cell immediately below this imports a function named ``getTemperature()`` that will return a simulated temperature value (between -20 and 120).  Each time your code calls that function, it will get a new value from the function.  Sometimes it will return -200, which we will interpret as a termination condition for the program.\n",
    "\n",
    "Your program should first ask the user what the minimum and maximum 'okay' temperatures are.  Then, it should repeatedly get a temperature value by calling ``getTemperature()``.  Each value should be printed out, and if the temperature is above or below the limits given by the user, the program should print a warning (either \"Too hot!\" or \"Too cold!\") for that value.  When the temperature value is -200, the program should report that and end.\n",
    "\n",
    "The example below shows an example run of this program and what it should print.  The ``0`` and ``100`` values were entered by the user following ``input()`` prompts.\n",
    "\n",
    "```\n",
    "Welcome to Temperature Logger!\n",
    "\n",
    "Please enter the minimum 'okay' temperature:  0\n",
    "Please enter the maximum 'okay' temperature:  100\n",
    "\n",
    "Temperature: 84\n",
    "Temperature: 57\n",
    "Temperature: 1\n",
    "Temperature: 34\n",
    "Temperature: 89\n",
    "Temperature: 64\n",
    "Temperature: 108  (Too hot!)\n",
    "Temperature: 104  (Too hot!)\n",
    "Temperature: 17\n",
    "Temperature: 49\n",
    "Temperature: 111  (Too hot!)\n",
    "Temperature: 114  (Too hot!)\n",
    "Temperature: 90\n",
    "Temperature: -13  (Too cold!)\n",
    "Temperature: 67\n",
    "Temperature: 35\n",
    "Got termination value (-200).  Exiting program.\n",
    "```"
   ]
  },
  {
   "cell_type": "markdown",
   "metadata": {},
   "source": [
    "Additionally, your program should check to make sure that the entered min and max temperatures are valid, meaning the minimum value is not greater than the maximum.  If the user enters invalid values, the program should print an error and ask them to enter new values, repeating this until it receives valid values.  An example execution is below:\n",
    "\n",
    "```\n",
    "Welcome to Temperature Logger!\n",
    "\n",
    "Please enter the minimum 'okay' temperature:  50\n",
    "Please enter the maximum 'okay' temperature:  20\n",
    "\n",
    "Error: Minimum temperature cannot be greater than maximum temperature.\n",
    "\n",
    "Please enter the minimum 'okay' temperature:  60\n",
    "Please enter the maximum 'okay' temperature:  40\n",
    "\n",
    "Error: Minimum temperature cannot be greater than maximum temperature.\n",
    "\n",
    "Please enter the minimum 'okay' temperature:  20\n",
    "Please enter the maximum 'okay' temperature:  80\n",
    "\n",
    "Temperature: -18  (Too cold!)\n",
    "Temperature: 31\n",
    "[... continues like the above example ...]\n",
    "```"
   ]
  },
  {
   "cell_type": "markdown",
   "metadata": {},
   "source": [
    "**Suggestion:** It's always a good idea to break complex problems down into smaller pieces that you can tackle separately.  In this case, you might want to write and test the input portion of the program first, getting that working correctly before moving on to the data logging portion.  If you get stuck on the input portion, however, you can still work on the data logging portion by giving your minimum and maximum temperature variables constant values in the code temporarily so that you have values to test with even if they are not coming from user input.  You can continue to make progress on one part while asking a question on Piazza or coming to office hours for help on another part."
   ]
  },
  {
   "cell_type": "code",
   "execution_count": null,
   "metadata": {
    "editable": false
   },
   "outputs": [],
   "source": [
    "# This imports the getTemperature() function that your code will use.\n",
    "# Execute this cell before running your own code.\n",
    "from simulate import getTemperature"
   ]
  },
  {
   "cell_type": "code",
   "execution_count": null,
   "metadata": {},
   "outputs": [],
   "source": [
    "# Write and test your code in this cell."
   ]
  },
  {
   "cell_type": "markdown",
   "metadata": {},
   "source": [
    "***\n",
    "## Option 2\n",
    "\n",
    "Read through Problem 3 above.\n",
    "\n",
    "For this option, your goal is to write a program that *visualizes* the data received from the simulated temperature sensor in Problem 3.  We'll show you an example of how the output should look first, then describe what the program needs to do.\n",
    "\n",
    "```\n",
    "Welcome to Temperature Grapher!\n",
    "\n",
    "Gathering data...\n",
    "Got termination value (-200).  Ending data collection.\n",
    "\n",
    "Minimum temperature: -20\n",
    "Maximum temperature: 116\n",
    "\n",
    "Chart:\n",
    "-20 ============================== 116\n",
    "    ---\n",
    "    --\n",
    "    \n",
    "    ------\n",
    "    -------\n",
    "    --------------------\n",
    "    --------------------------\n",
    "    ----------------\n",
    "    ------------------------\n",
    "    -------\n",
    "    -----------------\n",
    "    ------------------------------\n",
    "    ---------------\n",
    "    -----\n",
    "    ---------\n",
    "    ---------------------------\n",
    "    ------\n",
    "```"
   ]
  },
  {
   "cell_type": "markdown",
   "metadata": {},
   "source": [
    "Your program should print the greeting message and \"Gathering data...\" before beginning to collect temperature data returned by the ``getTemperature()`` function.  It does *not* need to ask the user for any input.\n",
    "\n",
    "The program should collect each value it gets in a list.  To do this, first make an empty list with ``listvar = []`` (using whatever variable name you choose), and then for each new value received, add it to the list using a line like ``listvar.append(newvalue)`` (where ``listvar`` is the list variable and ``newvalue`` is a variable containing the new value to add to the end of the list).  To test that the list is created successfully, print the list using ``print(listvar)`` (but don't leave that testing code in your final program!).\n",
    "\n",
    "The program should stop collecting data when the ``-200`` termination value is received, and that value should *not* be placed in the list.\n",
    "\n",
    "With the collected data, find the minimum and maximum temperature values in the list, and print them out as shown.\n",
    "\n",
    "The chart is a [horizontal bar chart](https://duckduckgo.com/?q=horizontal+bar+chart).  Each line represents one temperature value, and its length is proportional to that value.  The minimum value is shown here with no dashes (it's easier to program that way, but you can figure out how to make it show the minimum value with one dash if you want), and the maximum value is represented with 30 dashes extending the width of the chart.  The chart scale is presented first with the minimum and maximum values printed on each side of a line of 30 ``=`` signs.\n",
    "\n",
    "To compute the number of dashes used in one of the lines, you can use the line's temperature value, the minimum recorded temperature, and the maximum recorded temperature in this formula:\n",
    "\n",
    "$$dashes = \\frac{(temperature - minimum)}{(maximum - minimum)} \\times 30$$"
   ]
  },
  {
   "cell_type": "code",
   "execution_count": null,
   "metadata": {
    "editable": false
   },
   "outputs": [],
   "source": [
    "# This imports the getTemperature() function that your code will use.\n",
    "# Execute this cell before running your own code.\n",
    "from simulate import getTemperature"
   ]
  },
  {
   "cell_type": "code",
   "execution_count": null,
   "metadata": {},
   "outputs": [],
   "source": [
    "# Write and test your code in this cell."
   ]
  }
 ],
 "metadata": {
  "kernelspec": {
   "display_name": "Python 3",
   "language": "python",
   "name": "python3"
  },
  "language_info": {
   "codemirror_mode": {
    "name": "ipython",
    "version": 3
   },
   "file_extension": ".py",
   "mimetype": "text/x-python",
   "name": "python",
   "nbconvert_exporter": "python",
   "pygments_lexer": "ipython3",
   "version": "3.6.5"
  }
 },
 "nbformat": 4,
 "nbformat_minor": 2
}
